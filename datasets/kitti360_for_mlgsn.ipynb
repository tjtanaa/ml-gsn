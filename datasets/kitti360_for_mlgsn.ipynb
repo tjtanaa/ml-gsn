{
 "cells": [
  {
   "cell_type": "code",
   "execution_count": 1,
   "id": "7b99b5ee",
   "metadata": {},
   "outputs": [],
   "source": [
    "# Set the train data folder name\n",
    "train_number = '00'\n",
    "\n",
    "# If the start=0, end=500, and gap=5, the sequences will be 00000, 00005, 00010, ..., 00500 (total of 100)\n",
    "start = 0 \n",
    "end = 500\n",
    "gap = 5\n",
    "num_frames = (end - start)//20"
   ]
  },
  {
   "cell_type": "code",
   "execution_count": 1,
   "id": "633bee87",
   "metadata": {
    "scrolled": true
   },
   "outputs": [],
   "source": [
    "from PIL import Image\n",
    "import os\n",
    "import numpy as np\n",
    "from collections import Counter\n",
    "\n",
    "# Intrinsic Matrix\n",
    "K = [[1.000000000000000, 0.0, 0.0, 0.0], [0.0, 1.000000000000000, 0.0, 0.0], [0.0, 0.0, 1.0, 0.0], [0.0, 0.0, 0.0, 1.0]]\n",
    "    \n",
    "# Function to get list of ALL extrinsic matrices up to num_frames\n",
    "def get_all_Rt(cam0_to_world_path, num_frames):\n",
    "    all_Rt = []\n",
    "    \n",
    "    with open(cam0_to_world_path) as f:\n",
    "        for line in f:\n",
    "            if len(all_Rt) == 0:\n",
    "                matrix_split = line.split()\n",
    "                last_frame_with_info = int(matrix_split[0])\n",
    "                Rt = [[float(matrix_split[1]), float(matrix_split[2]), float(matrix_split[3]), float(matrix_split[4])],\n",
    "                      [float(matrix_split[5]), float(matrix_split[6]), float(matrix_split[7]), float(matrix_split[8])],\n",
    "                      [float(matrix_split[9]), float(matrix_split[10]), float(matrix_split[11]), float(matrix_split[12])],\n",
    "                      [float(matrix_split[13]), float(matrix_split[14]), float(matrix_split[15]), float(matrix_split[16])]]\n",
    "                all_Rt.append(Rt)\n",
    "                continue\n",
    "                \n",
    "            next_matrix_split = line.split()\n",
    "            next_frame_with_info = int(next_matrix_split[0])\n",
    "            \n",
    "            for frames in range(next_frame_with_info - last_frame_with_info):\n",
    "                if len(all_Rt) < num_frames:\n",
    "                    Rt = [[float(matrix_split[1]), float(matrix_split[2]), float(matrix_split[3]), float(matrix_split[4])],\n",
    "                          [float(matrix_split[5]), float(matrix_split[6]), float(matrix_split[7]), float(matrix_split[8])],\n",
    "                          [float(matrix_split[9]), float(matrix_split[10]), float(matrix_split[11]), float(matrix_split[12])],\n",
    "                          [float(matrix_split[13]), float(matrix_split[14]), float(matrix_split[15]), float(matrix_split[16])]]\n",
    "                    all_Rt.append(Rt)\n",
    "                else:\n",
    "                    f.close()\n",
    "                    return all_Rt       \n",
    "                \n",
    "            last_frame_with_info = next_frame_with_info\n",
    "            matrix_split = next_matrix_split                                                                                                "
   ]
  },
  {
   "cell_type": "code",
   "execution_count": 3,
   "id": "f2f050aa",
   "metadata": {},
   "outputs": [],
   "source": [
    "# Set relevant paths\n",
    "directory = '/home/hpaat/courses/comp6411b/ml-gsn/'\n",
    "cam0_to_world_path = directory + \"data/kitti-360/data_poses_2/2013_05_28_drive_0000_sync/cam0_to_world.txt\"\n",
    "\n",
    "# Get list of all Rt (extrinsic matrices)\n",
    "all_Rt = get_all_Rt(cam0_to_world_path, end)\n",
    "\n",
    "cameras_json = []\n",
    "for frame in range(start, end, gap):\n",
    "    dic = {'K': K, 'Rt': all_Rt[frame]}\n",
    "    cameras_json.append(dic)"
   ]
  },
  {
   "cell_type": "code",
   "execution_count": 4,
   "id": "368210d2",
   "metadata": {},
   "outputs": [],
   "source": [
    "import shutil\n",
    "import os\n",
    "\n",
    "# Creating folder of sequence of rgb images and depth data\n",
    "rgb_path = directory + 'data/kitti-360/KITTI-360/data_2d_raw/2013_05_28_drive_0000_sync/image_00/data_rect/'\n",
    "new_path = directory + 'data/kitti-360/kitti360_for_mlgsn/train/' + train_number + '/'\n",
    "\n",
    "if not os.path.exists(new_path):\n",
    "    os.makedirs(new_path)\n",
    "\n",
    "for frame in range(start, end, gap):\n",
    "    src_path = rgb_path + str(frame).zfill(10) + '.png'\n",
    "    im = Image.open(src_path)\n",
    "    im = im.crop((516, 0, 892, 376))\n",
    "    #resizedImage = im.resize((int(376), int(376)), Image.ANTIALIAS)\n",
    "    dst_path = new_path + str((frame-start)//gap).zfill(3) + '_rgb.png'\n",
    "    im.save(dst_path, format=\"png\", quality=90)\n",
    "    #shutil.copy(src_path, dst_path)"
   ]
  },
  {
   "cell_type": "code",
   "execution_count": 5,
   "id": "d5a9c4e9",
   "metadata": {},
   "outputs": [],
   "source": [
    "# Save the camera file in json format\n",
    "import json\n",
    "\n",
    "with open(new_path + 'cameras.json', 'w') as f:\n",
    "    json.dump(cameras_json, f)"
   ]
  },
  {
   "cell_type": "markdown",
   "id": "15920d3d",
   "metadata": {},
   "source": [
    "## Projecting Velodyne Points to Depth Map"
   ]
  },
  {
   "cell_type": "code",
   "execution_count": 6,
   "id": "d4edf9b3",
   "metadata": {},
   "outputs": [],
   "source": [
    "def load_velodyne_points(filename):\n",
    "    \"\"\"Load 3D point cloud from KITTI file format\n",
    "    (adapted from https://github.com/hunse/kitti)\n",
    "    \"\"\"\n",
    "    points = np.fromfile(filename, dtype=np.float32).reshape(-1, 4)\n",
    "    points[:, 3] = 1.0  # homogeneous\n",
    "    return points\n",
    "\n",
    "\n",
    "def read_calib_file(path):\n",
    "    \"\"\"Read KITTI calibration file\n",
    "    (from https://github.com/hunse/kitti)\n",
    "    \"\"\"\n",
    "    float_chars = set(\"0123456789.e+- \")\n",
    "    data = {}\n",
    "    with open(path, 'r') as f:\n",
    "        for line in f.readlines():\n",
    "            key, value = line.split(':', 1)\n",
    "            value = value.strip()\n",
    "            data[key] = value\n",
    "            if float_chars.issuperset(value):\n",
    "                # try to cast to float array\n",
    "                try:\n",
    "                    data[key] = np.array(list(map(float, value.split(' '))))\n",
    "                except ValueError:\n",
    "                    # casting error: data[key] already eq. value, so pass\n",
    "                    pass\n",
    "\n",
    "    return data\n",
    "\n",
    "\n",
    "def sub2ind(matrixSize, rowSub, colSub):\n",
    "    \"\"\"Convert row, col matrix subscripts to linear indices\n",
    "    \"\"\"\n",
    "    m, n = matrixSize\n",
    "    return rowSub * (n-1) + colSub - 1"
   ]
  },
  {
   "cell_type": "code",
   "execution_count": 7,
   "id": "f655002b",
   "metadata": {},
   "outputs": [],
   "source": [
    "def inverse_rigid_trans(Tr):\n",
    "    ''' Inverse a rigid body transform matrix (3x4 as [R|t])\n",
    "        [R'|-R't; 0|1]\n",
    "    '''\n",
    "    inv_Tr = np.zeros_like(Tr) # 3x4\n",
    "    inv_Tr[0:3,0:3] = np.transpose(Tr[0:3,0:3])\n",
    "    inv_Tr[0:3,3] = np.dot(-np.transpose(Tr[0:3,0:3]), Tr[0:3,3])\n",
    "    return inv_Tr"
   ]
  },
  {
   "cell_type": "code",
   "execution_count": 8,
   "id": "66f1b4f0",
   "metadata": {},
   "outputs": [],
   "source": [
    "import numpy as np\n",
    "\n",
    "def generate_depth_map(calib_dir, velo_filename, cam=0, vel_depth=False):\n",
    "    \"\"\"Generate a depth map from velodyne data\n",
    "    \"\"\"\n",
    "    # load calibration files    \n",
    "    cam2cam = read_calib_file(os.path.join(calib_dir, 'perspective.txt'))\n",
    "\n",
    "    path = os.path.join(calib_dir, 'calib_cam_to_velo.txt')\n",
    "    with open(path, 'r') as f:\n",
    "        for line in f.readlines():\n",
    "            cam2velo_list = line.split()\n",
    "\n",
    "    cam2velo = np.array(cam2velo_list, dtype='float32').reshape(3, 4)\n",
    "    cam2velo = np.vstack((cam2velo, np.array([0, 0, 0, 1.0])))\n",
    "\n",
    "    velo2cam = inverse_rigid_trans(cam2velo)\n",
    "\n",
    "    # get image shape\n",
    "    im_shape = cam2cam[\"S_rect_00\"][::-1].astype(np.int32)\n",
    "\n",
    "    # compute projection matrix velodyne->image plane\n",
    "    R_cam2rect = np.eye(4)\n",
    "    R_cam2rect[:3, :3] = cam2cam['R_rect_00'].reshape(3, 3)\n",
    "    P_rect = cam2cam['P_rect_0'+str(cam)].reshape(3, 4)\n",
    "    P_velo2im = np.dot(np.dot(P_rect, R_cam2rect), velo2cam)\n",
    "\n",
    "    # load velodyne points and remove all behind image plane (approximation)\n",
    "    # each row of the velodyne data is forward, left, up, reflectance\n",
    "    velo = load_velodyne_points(velo_filename)\n",
    "    velo = velo[velo[:, 0] >= 0, :]\n",
    "\n",
    "    # project the points to the camera\n",
    "    velo_pts_im = np.dot(P_velo2im, velo.T).T\n",
    "    velo_pts_im[:, :2] = velo_pts_im[:, :2] / velo_pts_im[:, 2][..., np.newaxis]\n",
    "\n",
    "    if vel_depth:\n",
    "        velo_pts_im[:, 2] = velo[:, 0]\n",
    "\n",
    "    # check if in bounds\n",
    "    # use minus 1 to get the exact same value as KITTI matlab code\n",
    "    velo_pts_im[:, 0] = np.round(velo_pts_im[:, 0]) - 1\n",
    "    velo_pts_im[:, 1] = np.round(velo_pts_im[:, 1]) - 1\n",
    "    val_inds = (velo_pts_im[:, 0] >= 0) & (velo_pts_im[:, 1] >= 0)\n",
    "    val_inds = val_inds & (velo_pts_im[:, 0] < im_shape[1]) & (velo_pts_im[:, 1] < im_shape[0])\n",
    "    velo_pts_im = velo_pts_im[val_inds, :]\n",
    "\n",
    "    # project to image\n",
    "    depth = np.zeros((im_shape[:2]))\n",
    "    depth[velo_pts_im[:, 1].astype(np.int), velo_pts_im[:, 0].astype(np.int)] = velo_pts_im[:, 2]\n",
    "\n",
    "    # find the duplicate points and choose the closest depth\n",
    "    inds = sub2ind(depth.shape, velo_pts_im[:, 1], velo_pts_im[:, 0])\n",
    "    dupe_inds = [item for item, count in Counter(inds).items() if count > 1]\n",
    "    for dd in dupe_inds:\n",
    "        pts = np.where(inds == dd)[0]\n",
    "        x_loc = int(velo_pts_im[pts[0], 0])\n",
    "        y_loc = int(velo_pts_im[pts[0], 1])\n",
    "        depth[y_loc, x_loc] = velo_pts_im[pts, 2].min()\n",
    "    depth[depth < 0] = 0\n",
    "\n",
    "    naive_mean_depth_img = np.zeros(depth.shape)\n",
    "    naive_mean_depth_img = naive_mean_depth_img + np.mean(depth)\n",
    "    \n",
    "    return naive_mean_depth_img"
   ]
  },
  {
   "cell_type": "code",
   "execution_count": 9,
   "id": "383d8c54",
   "metadata": {},
   "outputs": [],
   "source": [
    "from matplotlib import pyplot as plt\n",
    "def visualize(data):\n",
    "    plt.imshow(data, interpolation='nearest')\n",
    "    plt.show()"
   ]
  },
  {
   "cell_type": "code",
   "execution_count": 10,
   "id": "fedffaa6",
   "metadata": {},
   "outputs": [
    {
     "name": "stdout",
     "output_type": "stream",
     "text": [
      "[[0.00265957 0.00265957 0.00265957 ... 0.00265957 0.00265957 0.00265957]\n",
      " [0.00265957 0.00265957 0.00265957 ... 0.00265957 0.00265957 0.00265957]\n",
      " [0.00265957 0.00265957 0.00265957 ... 0.00265957 0.00265957 0.00265957]\n",
      " ...\n",
      " [0.00265957 0.00265957 0.00265957 ... 0.00265957 0.00265957 0.00265957]\n",
      " [0.00265957 0.00265957 0.00265957 ... 0.00265957 0.00265957 0.00265957]\n",
      " [0.00265957 0.00265957 0.00265957 ... 0.00265957 0.00265957 0.00265957]]\n",
      "[1. 1. 1. ... 1. 1. 1.]\n"
     ]
    },
    {
     "name": "stderr",
     "output_type": "stream",
     "text": [
      "/usr/local/anaconda3/lib/python3.7/site-packages/ipykernel_launcher.py:50: DeprecationWarning: `np.int` is a deprecated alias for the builtin `int`. To silence this warning, use `int` by itself. Doing this will not modify any behavior and is safe. When replacing `np.int`, you may wish to use e.g. `np.int64` or `np.int32` to specify the precision. If you wish to review your current use, check the release note link for additional information.\n",
      "Deprecated in NumPy 1.20; for more details and guidance: https://numpy.org/devdocs/release/1.20.0-notes.html#deprecations\n"
     ]
    },
    {
     "data": {
      "image/png": "[encoded data removed]",
      "text/plain": [
       "<Figure size 432x288 with 1 Axes>"
      ]
     },
     "metadata": {
      "needs_background": "light"
     },
     "output_type": "display_data"
    },
    {
     "name": "stdout",
     "output_type": "stream",
     "text": [
      "[[0.00265957 0.00265957 0.00265957 ... 0.00265957 0.00265957 0.00265957]\n",
      " [0.00265957 0.00265957 0.00265957 ... 0.00265957 0.00265957 0.00265957]\n",
      " [0.00265957 0.00265957 0.00265957 ... 0.00265957 0.00265957 0.00265957]\n",
      " ...\n",
      " [0.00265957 0.00265957 0.00265957 ... 0.00265957 0.00265957 0.00265957]\n",
      " [0.00265957 0.00265957 0.00265957 ... 0.00265957 0.00265957 0.00265957]\n",
      " [0.00265957 0.00265957 0.00265957 ... 0.00265957 0.00265957 0.00265957]]\n",
      "[1. 1. 1. ... 1. 1. 1.]\n"
     ]
    },
    {
     "data": {
      "image/png": "[encoded data removed]",
      "text/plain": [
       "<Figure size 432x288 with 1 Axes>"
      ]
     },
     "metadata": {
      "needs_background": "light"
     },
     "output_type": "display_data"
    },
    {
     "name": "stdout",
     "output_type": "stream",
     "text": [
      "[[0.00265957 0.00265957 0.00265957 ... 0.00265957 0.00265957 0.00265957]\n",
      " [0.00265957 0.00265957 0.00265957 ... 0.00265957 0.00265957 0.00265957]\n",
      " [0.00265957 0.00265957 0.00265957 ... 0.00265957 0.00265957 0.00265957]\n",
      " ...\n",
      " [0.00265957 0.00265957 0.00265957 ... 0.00265957 0.00265957 0.00265957]\n",
      " [0.00265957 0.00265957 0.00265957 ... 0.00265957 0.00265957 0.00265957]\n",
      " [0.00265957 0.00265957 0.00265957 ... 0.00265957 0.00265957 0.00265957]]\n",
      "[1. 1. 1. ... 1. 1. 1.]\n"
     ]
    },
    {
     "data": {
      "image/png": "[encoded data removed]",
      "text/plain": [
       "<Figure size 432x288 with 1 Axes>"
      ]
     },
     "metadata": {
      "needs_background": "light"
     },
     "output_type": "display_data"
    },
    {
     "name": "stdout",
     "output_type": "stream",
     "text": [
      "[[0.00265957 0.00265957 0.00265957 ... 0.00265957 0.00265957 0.00265957]\n",
      " [0.00265957 0.00265957 0.00265957 ... 0.00265957 0.00265957 0.00265957]\n",
      " [0.00265957 0.00265957 0.00265957 ... 0.00265957 0.00265957 0.00265957]\n",
      " ...\n",
      " [0.00265957 0.00265957 0.00265957 ... 0.00265957 0.00265957 0.00265957]\n",
      " [0.00265957 0.00265957 0.00265957 ... 0.00265957 0.00265957 0.00265957]\n",
      " [0.00265957 0.00265957 0.00265957 ... 0.00265957 0.00265957 0.00265957]]\n",
      "[1. 1. 1. ... 1. 1. 1.]\n"
     ]
    },
    {
     "data": {
      "image/png": "[encoded data removed]",
      "text/plain": [
       "<Figure size 432x288 with 1 Axes>"
      ]
     },
     "metadata": {
      "needs_background": "light"
     },
     "output_type": "display_data"
    },
    {
     "name": "stdout",
     "output_type": "stream",
     "text": [
      "[[0.00265957 0.00265957 0.00265957 ... 0.00265957 0.00265957 0.00265957]\n",
      " [0.00265957 0.00265957 0.00265957 ... 0.00265957 0.00265957 0.00265957]\n",
      " [0.00265957 0.00265957 0.00265957 ... 0.00265957 0.00265957 0.00265957]\n",
      " ...\n",
      " [0.00265957 0.00265957 0.00265957 ... 0.00265957 0.00265957 0.00265957]\n",
      " [0.00265957 0.00265957 0.00265957 ... 0.00265957 0.00265957 0.00265957]\n",
      " [0.00265957 0.00265957 0.00265957 ... 0.00265957 0.00265957 0.00265957]]\n",
      "[1. 1. 1. ... 1. 1. 1.]\n"
     ]
    },
    {
     "data": {
      "image/png": "[encoded data removed]",
      "text/plain": [
       "<Figure size 432x288 with 1 Axes>"
      ]
     },
     "metadata": {
      "needs_background": "light"
     },
     "output_type": "display_data"
    },
    {
     "name": "stdout",
     "output_type": "stream",
     "text": [
      "[[0.00265957 0.00265957 0.00265957 ... 0.00265957 0.00265957 0.00265957]\n",
      " [0.00265957 0.00265957 0.00265957 ... 0.00265957 0.00265957 0.00265957]\n",
      " [0.00265957 0.00265957 0.00265957 ... 0.00265957 0.00265957 0.00265957]\n",
      " ...\n",
      " [0.00265957 0.00265957 0.00265957 ... 0.00265957 0.00265957 0.00265957]\n",
      " [0.00265957 0.00265957 0.00265957 ... 0.00265957 0.00265957 0.00265957]\n",
      " [0.00265957 0.00265957 0.00265957 ... 0.00265957 0.00265957 0.00265957]]\n",
      "[1. 1. 1. ... 1. 1. 1.]\n"
     ]
    },
    {
     "data": {
      "image/png": "[encoded data removed]",
      "text/plain": [
       "<Figure size 432x288 with 1 Axes>"
      ]
     },
     "metadata": {
      "needs_background": "light"
     },
     "output_type": "display_data"
    },
    {
     "name": "stdout",
     "output_type": "stream",
     "text": [
      "[[0.00265957 0.00265957 0.00265957 ... 0.00265957 0.00265957 0.00265957]\n",
      " [0.00265957 0.00265957 0.00265957 ... 0.00265957 0.00265957 0.00265957]\n",
      " [0.00265957 0.00265957 0.00265957 ... 0.00265957 0.00265957 0.00265957]\n",
      " ...\n",
      " [0.00265957 0.00265957 0.00265957 ... 0.00265957 0.00265957 0.00265957]\n",
      " [0.00265957 0.00265957 0.00265957 ... 0.00265957 0.00265957 0.00265957]\n",
      " [0.00265957 0.00265957 0.00265957 ... 0.00265957 0.00265957 0.00265957]]\n",
      "[1. 1. 1. ... 1. 1. 1.]\n"
     ]
    },
    {
     "data": {
      "image/png": "[encoded data removed]",
      "text/plain": [
       "<Figure size 432x288 with 1 Axes>"
      ]
     },
     "metadata": {
      "needs_background": "light"
     },
     "output_type": "display_data"
    },
    {
     "name": "stdout",
     "output_type": "stream",
     "text": [
      "[[0.00265957 0.00265957 0.00265957 ... 0.00265957 0.00265957 0.00265957]\n",
      " [0.00265957 0.00265957 0.00265957 ... 0.00265957 0.00265957 0.00265957]\n",
      " [0.00265957 0.00265957 0.00265957 ... 0.00265957 0.00265957 0.00265957]\n",
      " ...\n",
      " [0.00265957 0.00265957 0.00265957 ... 0.00265957 0.00265957 0.00265957]\n",
      " [0.00265957 0.00265957 0.00265957 ... 0.00265957 0.00265957 0.00265957]\n",
      " [0.00265957 0.00265957 0.00265957 ... 0.00265957 0.00265957 0.00265957]]\n",
      "[1. 1. 1. ... 1. 1. 1.]\n"
     ]
    },
    {
     "data": {
      "image/png": "[encoded data removed]",
      "text/plain": [
       "<Figure size 432x288 with 1 Axes>"
      ]
     },
     "metadata": {
      "needs_background": "light"
     },
     "output_type": "display_data"
    },
    {
     "name": "stdout",
     "output_type": "stream",
     "text": [
      "[[0.00265957 0.00265957 0.00265957 ... 0.00265957 0.00265957 0.00265957]\n",
      " [0.00265957 0.00265957 0.00265957 ... 0.00265957 0.00265957 0.00265957]\n",
      " [0.00265957 0.00265957 0.00265957 ... 0.00265957 0.00265957 0.00265957]\n",
      " ...\n",
      " [0.00265957 0.00265957 0.00265957 ... 0.00265957 0.00265957 0.00265957]\n",
      " [0.00265957 0.00265957 0.00265957 ... 0.00265957 0.00265957 0.00265957]\n",
      " [0.00265957 0.00265957 0.00265957 ... 0.00265957 0.00265957 0.00265957]]\n",
      "[1. 1. 1. ... 1. 1. 1.]\n"
     ]
    },
    {
     "data": {
      "image/png": "[encoded data removed]",
      "text/plain": [
       "<Figure size 432x288 with 1 Axes>"
      ]
     },
     "metadata": {
      "needs_background": "light"
     },
     "output_type": "display_data"
    },
    {
     "name": "stdout",
     "output_type": "stream",
     "text": [
      "[[0.00265957 0.00265957 0.00265957 ... 0.00265957 0.00265957 0.00265957]\n",
      " [0.00265957 0.00265957 0.00265957 ... 0.00265957 0.00265957 0.00265957]\n",
      " [0.00265957 0.00265957 0.00265957 ... 0.00265957 0.00265957 0.00265957]\n",
      " ...\n",
      " [0.00265957 0.00265957 0.00265957 ... 0.00265957 0.00265957 0.00265957]\n",
      " [0.00265957 0.00265957 0.00265957 ... 0.00265957 0.00265957 0.00265957]\n",
      " [0.00265957 0.00265957 0.00265957 ... 0.00265957 0.00265957 0.00265957]]\n",
      "[1. 1. 1. ... 1. 1. 1.]\n"
     ]
    },
    {
     "data": {
      "image/png": "[encoded data removed]",
      "text/plain": [
       "<Figure size 432x288 with 1 Axes>"
      ]
     },
     "metadata": {
      "needs_background": "light"
     },
     "output_type": "display_data"
    },
    {
     "name": "stdout",
     "output_type": "stream",
     "text": [
      "[[0.00265957 0.00265957 0.00265957 ... 0.00265957 0.00265957 0.00265957]\n",
      " [0.00265957 0.00265957 0.00265957 ... 0.00265957 0.00265957 0.00265957]\n",
      " [0.00265957 0.00265957 0.00265957 ... 0.00265957 0.00265957 0.00265957]\n",
      " ...\n",
      " [0.00265957 0.00265957 0.00265957 ... 0.00265957 0.00265957 0.00265957]\n",
      " [0.00265957 0.00265957 0.00265957 ... 0.00265957 0.00265957 0.00265957]\n",
      " [0.00265957 0.00265957 0.00265957 ... 0.00265957 0.00265957 0.00265957]]\n",
      "[1. 1. 1. ... 1. 1. 1.]\n"
     ]
    },
    {
     "data": {
      "image/png": "[encoded data removed]",
      "text/plain": [
       "<Figure size 432x288 with 1 Axes>"
      ]
     },
     "metadata": {
      "needs_background": "light"
     },
     "output_type": "display_data"
    },
    {
     "name": "stdout",
     "output_type": "stream",
     "text": [
      "[[0.00265957 0.00265957 0.00265957 ... 0.00265957 0.00265957 0.00265957]\n",
      " [0.00265957 0.00265957 0.00265957 ... 0.00265957 0.00265957 0.00265957]\n",
      " [0.00265957 0.00265957 0.00265957 ... 0.00265957 0.00265957 0.00265957]\n",
      " ...\n",
      " [0.00265957 0.00265957 0.00265957 ... 0.00265957 0.00265957 0.00265957]\n",
      " [0.00265957 0.00265957 0.00265957 ... 0.00265957 0.00265957 0.00265957]\n",
      " [0.00265957 0.00265957 0.00265957 ... 0.00265957 0.00265957 0.00265957]]\n",
      "[1. 1. 1. ... 1. 1. 1.]\n"
     ]
    },
    {
     "data": {
      "image/png": "[encoded data removed]",
      "text/plain": [
       "<Figure size 432x288 with 1 Axes>"
      ]
     },
     "metadata": {
      "needs_background": "light"
     },
     "output_type": "display_data"
    },
    {
     "name": "stdout",
     "output_type": "stream",
     "text": [
      "[[0.00265957 0.00265957 0.00265957 ... 0.00265957 0.00265957 0.00265957]\n",
      " [0.00265957 0.00265957 0.00265957 ... 0.00265957 0.00265957 0.00265957]\n",
      " [0.00265957 0.00265957 0.00265957 ... 0.00265957 0.00265957 0.00265957]\n",
      " ...\n",
      " [0.00265957 0.00265957 0.00265957 ... 0.00265957 0.00265957 0.00265957]\n",
      " [0.00265957 0.00265957 0.00265957 ... 0.00265957 0.00265957 0.00265957]\n",
      " [0.00265957 0.00265957 0.00265957 ... 0.00265957 0.00265957 0.00265957]]\n",
      "[1. 1. 1. ... 1. 1. 1.]\n"
     ]
    },
    {
     "data": {
      "image/png": "[encoded data removed]",
      "text/plain": [
       "<Figure size 432x288 with 1 Axes>"
      ]
     },
     "metadata": {
      "needs_background": "light"
     },
     "output_type": "display_data"
    },
    {
     "name": "stdout",
     "output_type": "stream",
     "text": [
      "[[0.00265957 0.00265957 0.00265957 ... 0.00265957 0.00265957 0.00265957]\n",
      " [0.00265957 0.00265957 0.00265957 ... 0.00265957 0.00265957 0.00265957]\n",
      " [0.00265957 0.00265957 0.00265957 ... 0.00265957 0.00265957 0.00265957]\n",
      " ...\n",
      " [0.00265957 0.00265957 0.00265957 ... 0.00265957 0.00265957 0.00265957]\n",
      " [0.00265957 0.00265957 0.00265957 ... 0.00265957 0.00265957 0.00265957]\n",
      " [0.00265957 0.00265957 0.00265957 ... 0.00265957 0.00265957 0.00265957]]\n",
      "[1. 1. 1. ... 1. 1. 1.]\n"
     ]
    },
    {
     "data": {
      "image/png": "[encoded data removed]",
      "text/plain": [
       "<Figure size 432x288 with 1 Axes>"
      ]
     },
     "metadata": {
      "needs_background": "light"
     },
     "output_type": "display_data"
    },
    {
     "name": "stdout",
     "output_type": "stream",
     "text": [
      "[[0.00265957 0.00265957 0.00265957 ... 0.00265957 0.00265957 0.00265957]\n",
      " [0.00265957 0.00265957 0.00265957 ... 0.00265957 0.00265957 0.00265957]\n",
      " [0.00265957 0.00265957 0.00265957 ... 0.00265957 0.00265957 0.00265957]\n",
      " ...\n",
      " [0.00265957 0.00265957 0.00265957 ... 0.00265957 0.00265957 0.00265957]\n",
      " [0.00265957 0.00265957 0.00265957 ... 0.00265957 0.00265957 0.00265957]\n",
      " [0.00265957 0.00265957 0.00265957 ... 0.00265957 0.00265957 0.00265957]]\n",
      "[1. 1. 1. ... 1. 1. 1.]\n"
     ]
    },
    {
     "data": {
      "image/png": "[encoded data removed]",
      "text/plain": [
       "<Figure size 432x288 with 1 Axes>"
      ]
     },
     "metadata": {
      "needs_background": "light"
     },
     "output_type": "display_data"
    },
    {
     "name": "stdout",
     "output_type": "stream",
     "text": [
      "[[0.00265957 0.00265957 0.00265957 ... 0.00265957 0.00265957 0.00265957]\n",
      " [0.00265957 0.00265957 0.00265957 ... 0.00265957 0.00265957 0.00265957]\n",
      " [0.00265957 0.00265957 0.00265957 ... 0.00265957 0.00265957 0.00265957]\n",
      " ...\n",
      " [0.00265957 0.00265957 0.00265957 ... 0.00265957 0.00265957 0.00265957]\n",
      " [0.00265957 0.00265957 0.00265957 ... 0.00265957 0.00265957 0.00265957]\n",
      " [0.00265957 0.00265957 0.00265957 ... 0.00265957 0.00265957 0.00265957]]\n",
      "[1. 1. 1. ... 1. 1. 1.]\n"
     ]
    },
    {
     "data": {
      "image/png": "[encoded data removed]",
      "text/plain": [
       "<Figure size 432x288 with 1 Axes>"
      ]
     },
     "metadata": {
      "needs_background": "light"
     },
     "output_type": "display_data"
    },
    {
     "name": "stdout",
     "output_type": "stream",
     "text": [
      "[[0.00265957 0.00265957 0.00265957 ... 0.00265957 0.00265957 0.00265957]\n",
      " [0.00265957 0.00265957 0.00265957 ... 0.00265957 0.00265957 0.00265957]\n",
      " [0.00265957 0.00265957 0.00265957 ... 0.00265957 0.00265957 0.00265957]\n",
      " ...\n",
      " [0.00265957 0.00265957 0.00265957 ... 0.00265957 0.00265957 0.00265957]\n",
      " [0.00265957 0.00265957 0.00265957 ... 0.00265957 0.00265957 0.00265957]\n",
      " [0.00265957 0.00265957 0.00265957 ... 0.00265957 0.00265957 0.00265957]]\n",
      "[1. 1. 1. ... 1. 1. 1.]\n"
     ]
    },
    {
     "data": {
      "image/png": "[encoded data removed]",
      "text/plain": [
       "<Figure size 432x288 with 1 Axes>"
      ]
     },
     "metadata": {
      "needs_background": "light"
     },
     "output_type": "display_data"
    },
    {
     "name": "stdout",
     "output_type": "stream",
     "text": [
      "[[0.00265957 0.00265957 0.00265957 ... 0.00265957 0.00265957 0.00265957]\n",
      " [0.00265957 0.00265957 0.00265957 ... 0.00265957 0.00265957 0.00265957]\n",
      " [0.00265957 0.00265957 0.00265957 ... 0.00265957 0.00265957 0.00265957]\n",
      " ...\n",
      " [0.00265957 0.00265957 0.00265957 ... 0.00265957 0.00265957 0.00265957]\n",
      " [0.00265957 0.00265957 0.00265957 ... 0.00265957 0.00265957 0.00265957]\n",
      " [0.00265957 0.00265957 0.00265957 ... 0.00265957 0.00265957 0.00265957]]\n",
      "[1. 1. 1. ... 1. 1. 1.]\n"
     ]
    },
    {
     "data": {
      "image/png": "[encoded data removed]",
      "text/plain": [
       "<Figure size 432x288 with 1 Axes>"
      ]
     },
     "metadata": {
      "needs_background": "light"
     },
     "output_type": "display_data"
    },
    {
     "name": "stdout",
     "output_type": "stream",
     "text": [
      "[[0.00265957 0.00265957 0.00265957 ... 0.00265957 0.00265957 0.00265957]\n",
      " [0.00265957 0.00265957 0.00265957 ... 0.00265957 0.00265957 0.00265957]\n",
      " [0.00265957 0.00265957 0.00265957 ... 0.00265957 0.00265957 0.00265957]\n",
      " ...\n",
      " [0.00265957 0.00265957 0.00265957 ... 0.00265957 0.00265957 0.00265957]\n",
      " [0.00265957 0.00265957 0.00265957 ... 0.00265957 0.00265957 0.00265957]\n",
      " [0.00265957 0.00265957 0.00265957 ... 0.00265957 0.00265957 0.00265957]]\n",
      "[1. 1. 1. ... 1. 1. 1.]\n"
     ]
    },
    {
     "data": {
      "image/png": "[encoded data removed]",
      "text/plain": [
       "<Figure size 432x288 with 1 Axes>"
      ]
     },
     "metadata": {
      "needs_background": "light"
     },
     "output_type": "display_data"
    },
    {
     "name": "stdout",
     "output_type": "stream",
     "text": [
      "[[0.00265957 0.00265957 0.00265957 ... 0.00265957 0.00265957 0.00265957]\n",
      " [0.00265957 0.00265957 0.00265957 ... 0.00265957 0.00265957 0.00265957]\n",
      " [0.00265957 0.00265957 0.00265957 ... 0.00265957 0.00265957 0.00265957]\n",
      " ...\n",
      " [0.00265957 0.00265957 0.00265957 ... 0.00265957 0.00265957 0.00265957]\n",
      " [0.00265957 0.00265957 0.00265957 ... 0.00265957 0.00265957 0.00265957]\n",
      " [0.00265957 0.00265957 0.00265957 ... 0.00265957 0.00265957 0.00265957]]\n",
      "[1. 1. 1. ... 1. 1. 1.]\n"
     ]
    },
    {
     "data": {
      "image/png": "[encoded data removed]",
      "text/plain": [
       "<Figure size 432x288 with 1 Axes>"
      ]
     },
     "metadata": {
      "needs_background": "light"
     },
     "output_type": "display_data"
    },
    {
     "name": "stdout",
     "output_type": "stream",
     "text": [
      "[[0.00265957 0.00265957 0.00265957 ... 0.00265957 0.00265957 0.00265957]\n",
      " [0.00265957 0.00265957 0.00265957 ... 0.00265957 0.00265957 0.00265957]\n",
      " [0.00265957 0.00265957 0.00265957 ... 0.00265957 0.00265957 0.00265957]\n",
      " ...\n",
      " [0.00265957 0.00265957 0.00265957 ... 0.00265957 0.00265957 0.00265957]\n",
      " [0.00265957 0.00265957 0.00265957 ... 0.00265957 0.00265957 0.00265957]\n",
      " [0.00265957 0.00265957 0.00265957 ... 0.00265957 0.00265957 0.00265957]]\n",
      "[1. 1. 1. ... 1. 1. 1.]\n"
     ]
    },
    {
     "data": {
      "image/png": "[encoded data removed]",
      "text/plain": [
       "<Figure size 432x288 with 1 Axes>"
      ]
     },
     "metadata": {
      "needs_background": "light"
     },
     "output_type": "display_data"
    },
    {
     "name": "stdout",
     "output_type": "stream",
     "text": [
      "[[0.00265957 0.00265957 0.00265957 ... 0.00265957 0.00265957 0.00265957]\n",
      " [0.00265957 0.00265957 0.00265957 ... 0.00265957 0.00265957 0.00265957]\n",
      " [0.00265957 0.00265957 0.00265957 ... 0.00265957 0.00265957 0.00265957]\n",
      " ...\n",
      " [0.00265957 0.00265957 0.00265957 ... 0.00265957 0.00265957 0.00265957]\n",
      " [0.00265957 0.00265957 0.00265957 ... 0.00265957 0.00265957 0.00265957]\n",
      " [0.00265957 0.00265957 0.00265957 ... 0.00265957 0.00265957 0.00265957]]\n",
      "[1. 1. 1. ... 1. 1. 1.]\n"
     ]
    },
    {
     "data": {
      "image/png": "[encoded data removed]",
      "text/plain": [
       "<Figure size 432x288 with 1 Axes>"
      ]
     },
     "metadata": {
      "needs_background": "light"
     },
     "output_type": "display_data"
    },
    {
     "name": "stdout",
     "output_type": "stream",
     "text": [
      "[[0.00265957 0.00265957 0.00265957 ... 0.00265957 0.00265957 0.00265957]\n",
      " [0.00265957 0.00265957 0.00265957 ... 0.00265957 0.00265957 0.00265957]\n",
      " [0.00265957 0.00265957 0.00265957 ... 0.00265957 0.00265957 0.00265957]\n",
      " ...\n",
      " [0.00265957 0.00265957 0.00265957 ... 0.00265957 0.00265957 0.00265957]\n",
      " [0.00265957 0.00265957 0.00265957 ... 0.00265957 0.00265957 0.00265957]\n",
      " [0.00265957 0.00265957 0.00265957 ... 0.00265957 0.00265957 0.00265957]]\n",
      "[1. 1. 1. ... 1. 1. 1.]\n"
     ]
    },
    {
     "data": {
      "image/png": "[encoded data removed]",
      "text/plain": [
       "<Figure size 432x288 with 1 Axes>"
      ]
     },
     "metadata": {
      "needs_background": "light"
     },
     "output_type": "display_data"
    },
    {
     "name": "stdout",
     "output_type": "stream",
     "text": [
      "[[0.00265957 0.00265957 0.00265957 ... 0.00265957 0.00265957 0.00265957]\n",
      " [0.00265957 0.00265957 0.00265957 ... 0.00265957 0.00265957 0.00265957]\n",
      " [0.00265957 0.00265957 0.00265957 ... 0.00265957 0.00265957 0.00265957]\n",
      " ...\n",
      " [0.00265957 0.00265957 0.00265957 ... 0.00265957 0.00265957 0.00265957]\n",
      " [0.00265957 0.00265957 0.00265957 ... 0.00265957 0.00265957 0.00265957]\n",
      " [0.00265957 0.00265957 0.00265957 ... 0.00265957 0.00265957 0.00265957]]\n",
      "[1. 1. 1. ... 1. 1. 1.]\n"
     ]
    },
    {
     "data": {
      "image/png": "[encoded data removed]",
      "text/plain": [
       "<Figure size 432x288 with 1 Axes>"
      ]
     },
     "metadata": {
      "needs_background": "light"
     },
     "output_type": "display_data"
    },
    {
     "name": "stdout",
     "output_type": "stream",
     "text": [
      "[[0.00265957 0.00265957 0.00265957 ... 0.00265957 0.00265957 0.00265957]\n",
      " [0.00265957 0.00265957 0.00265957 ... 0.00265957 0.00265957 0.00265957]\n",
      " [0.00265957 0.00265957 0.00265957 ... 0.00265957 0.00265957 0.00265957]\n",
      " ...\n",
      " [0.00265957 0.00265957 0.00265957 ... 0.00265957 0.00265957 0.00265957]\n",
      " [0.00265957 0.00265957 0.00265957 ... 0.00265957 0.00265957 0.00265957]\n",
      " [0.00265957 0.00265957 0.00265957 ... 0.00265957 0.00265957 0.00265957]]\n",
      "[1. 1. 1. ... 1. 1. 1.]\n"
     ]
    },
    {
     "data": {
      "image/png": "[encoded data removed]",
      "text/plain": [
       "<Figure size 432x288 with 1 Axes>"
      ]
     },
     "metadata": {
      "needs_background": "light"
     },
     "output_type": "display_data"
    },
    {
     "name": "stdout",
     "output_type": "stream",
     "text": [
      "[[0.00265957 0.00265957 0.00265957 ... 0.00265957 0.00265957 0.00265957]\n",
      " [0.00265957 0.00265957 0.00265957 ... 0.00265957 0.00265957 0.00265957]\n",
      " [0.00265957 0.00265957 0.00265957 ... 0.00265957 0.00265957 0.00265957]\n",
      " ...\n",
      " [0.00265957 0.00265957 0.00265957 ... 0.00265957 0.00265957 0.00265957]\n",
      " [0.00265957 0.00265957 0.00265957 ... 0.00265957 0.00265957 0.00265957]\n",
      " [0.00265957 0.00265957 0.00265957 ... 0.00265957 0.00265957 0.00265957]]\n",
      "[1. 1. 1. ... 1. 1. 1.]\n"
     ]
    },
    {
     "data": {
      "image/png": "[encoded data removed]",
      "text/plain": [
       "<Figure size 432x288 with 1 Axes>"
      ]
     },
     "metadata": {
      "needs_background": "light"
     },
     "output_type": "display_data"
    },
    {
     "name": "stdout",
     "output_type": "stream",
     "text": [
      "[[0.00265957 0.00265957 0.00265957 ... 0.00265957 0.00265957 0.00265957]\n",
      " [0.00265957 0.00265957 0.00265957 ... 0.00265957 0.00265957 0.00265957]\n",
      " [0.00265957 0.00265957 0.00265957 ... 0.00265957 0.00265957 0.00265957]\n",
      " ...\n",
      " [0.00265957 0.00265957 0.00265957 ... 0.00265957 0.00265957 0.00265957]\n",
      " [0.00265957 0.00265957 0.00265957 ... 0.00265957 0.00265957 0.00265957]\n",
      " [0.00265957 0.00265957 0.00265957 ... 0.00265957 0.00265957 0.00265957]]\n",
      "[1. 1. 1. ... 1. 1. 1.]\n"
     ]
    },
    {
     "data": {
      "image/png": "[encoded data removed]",
      "text/plain": [
       "<Figure size 432x288 with 1 Axes>"
      ]
     },
     "metadata": {
      "needs_background": "light"
     },
     "output_type": "display_data"
    },
    {
     "name": "stdout",
     "output_type": "stream",
     "text": [
      "[[0.00265957 0.00265957 0.00265957 ... 0.00265957 0.00265957 0.00265957]\n",
      " [0.00265957 0.00265957 0.00265957 ... 0.00265957 0.00265957 0.00265957]\n",
      " [0.00265957 0.00265957 0.00265957 ... 0.00265957 0.00265957 0.00265957]\n",
      " ...\n",
      " [0.00265957 0.00265957 0.00265957 ... 0.00265957 0.00265957 0.00265957]\n",
      " [0.00265957 0.00265957 0.00265957 ... 0.00265957 0.00265957 0.00265957]\n",
      " [0.00265957 0.00265957 0.00265957 ... 0.00265957 0.00265957 0.00265957]]\n",
      "[1. 1. 1. ... 1. 1. 1.]\n"
     ]
    },
    {
     "data": {
      "image/png": "[encoded data removed]",
      "text/plain": [
       "<Figure size 432x288 with 1 Axes>"
      ]
     },
     "metadata": {
      "needs_background": "light"
     },
     "output_type": "display_data"
    },
    {
     "name": "stdout",
     "output_type": "stream",
     "text": [
      "[[0.00265957 0.00265957 0.00265957 ... 0.00265957 0.00265957 0.00265957]\n",
      " [0.00265957 0.00265957 0.00265957 ... 0.00265957 0.00265957 0.00265957]\n",
      " [0.00265957 0.00265957 0.00265957 ... 0.00265957 0.00265957 0.00265957]\n",
      " ...\n",
      " [0.00265957 0.00265957 0.00265957 ... 0.00265957 0.00265957 0.00265957]\n",
      " [0.00265957 0.00265957 0.00265957 ... 0.00265957 0.00265957 0.00265957]\n",
      " [0.00265957 0.00265957 0.00265957 ... 0.00265957 0.00265957 0.00265957]]\n",
      "[1. 1. 1. ... 1. 1. 1.]\n"
     ]
    },
    {
     "data": {
      "image/png": "[encoded data removed]",
      "text/plain": [
       "<Figure size 432x288 with 1 Axes>"
      ]
     },
     "metadata": {
      "needs_background": "light"
     },
     "output_type": "display_data"
    },
    {
     "name": "stdout",
     "output_type": "stream",
     "text": [
      "[[0.00265957 0.00265957 0.00265957 ... 0.00265957 0.00265957 0.00265957]\n",
      " [0.00265957 0.00265957 0.00265957 ... 0.00265957 0.00265957 0.00265957]\n",
      " [0.00265957 0.00265957 0.00265957 ... 0.00265957 0.00265957 0.00265957]\n",
      " ...\n",
      " [0.00265957 0.00265957 0.00265957 ... 0.00265957 0.00265957 0.00265957]\n",
      " [0.00265957 0.00265957 0.00265957 ... 0.00265957 0.00265957 0.00265957]\n",
      " [0.00265957 0.00265957 0.00265957 ... 0.00265957 0.00265957 0.00265957]]\n",
      "[1. 1. 1. ... 1. 1. 1.]\n"
     ]
    },
    {
     "data": {
      "image/png": "[encoded data removed]",
      "text/plain": [
       "<Figure size 432x288 with 1 Axes>"
      ]
     },
     "metadata": {
      "needs_background": "light"
     },
     "output_type": "display_data"
    },
    {
     "name": "stdout",
     "output_type": "stream",
     "text": [
      "[[0.00265957 0.00265957 0.00265957 ... 0.00265957 0.00265957 0.00265957]\n",
      " [0.00265957 0.00265957 0.00265957 ... 0.00265957 0.00265957 0.00265957]\n",
      " [0.00265957 0.00265957 0.00265957 ... 0.00265957 0.00265957 0.00265957]\n",
      " ...\n",
      " [0.00265957 0.00265957 0.00265957 ... 0.00265957 0.00265957 0.00265957]\n",
      " [0.00265957 0.00265957 0.00265957 ... 0.00265957 0.00265957 0.00265957]\n",
      " [0.00265957 0.00265957 0.00265957 ... 0.00265957 0.00265957 0.00265957]]\n",
      "[1. 1. 1. ... 1. 1. 1.]\n"
     ]
    },
    {
     "data": {
      "image/png": "[encoded data removed]",
      "text/plain": [
       "<Figure size 432x288 with 1 Axes>"
      ]
     },
     "metadata": {
      "needs_background": "light"
     },
     "output_type": "display_data"
    },
    {
     "name": "stdout",
     "output_type": "stream",
     "text": [
      "[[0.00265957 0.00265957 0.00265957 ... 0.00265957 0.00265957 0.00265957]\n",
      " [0.00265957 0.00265957 0.00265957 ... 0.00265957 0.00265957 0.00265957]\n",
      " [0.00265957 0.00265957 0.00265957 ... 0.00265957 0.00265957 0.00265957]\n",
      " ...\n",
      " [0.00265957 0.00265957 0.00265957 ... 0.00265957 0.00265957 0.00265957]\n",
      " [0.00265957 0.00265957 0.00265957 ... 0.00265957 0.00265957 0.00265957]\n",
      " [0.00265957 0.00265957 0.00265957 ... 0.00265957 0.00265957 0.00265957]]\n",
      "[1. 1. 1. ... 1. 1. 1.]\n"
     ]
    },
    {
     "data": {
      "image/png": "[encoded data removed]",
      "text/plain": [
       "<Figure size 432x288 with 1 Axes>"
      ]
     },
     "metadata": {
      "needs_background": "light"
     },
     "output_type": "display_data"
    },
    {
     "name": "stdout",
     "output_type": "stream",
     "text": [
      "[[0.00265957 0.00265957 0.00265957 ... 0.00265957 0.00265957 0.00265957]\n",
      " [0.00265957 0.00265957 0.00265957 ... 0.00265957 0.00265957 0.00265957]\n",
      " [0.00265957 0.00265957 0.00265957 ... 0.00265957 0.00265957 0.00265957]\n",
      " ...\n",
      " [0.00265957 0.00265957 0.00265957 ... 0.00265957 0.00265957 0.00265957]\n",
      " [0.00265957 0.00265957 0.00265957 ... 0.00265957 0.00265957 0.00265957]\n",
      " [0.00265957 0.00265957 0.00265957 ... 0.00265957 0.00265957 0.00265957]]\n",
      "[1. 1. 1. ... 1. 1. 1.]\n"
     ]
    },
    {
     "data": {
      "image/png": "[encoded data removed]",
      "text/plain": [
       "<Figure size 432x288 with 1 Axes>"
      ]
     },
     "metadata": {
      "needs_background": "light"
     },
     "output_type": "display_data"
    },
    {
     "name": "stdout",
     "output_type": "stream",
     "text": [
      "[[0.00265957 0.00265957 0.00265957 ... 0.00265957 0.00265957 0.00265957]\n",
      " [0.00265957 0.00265957 0.00265957 ... 0.00265957 0.00265957 0.00265957]\n",
      " [0.00265957 0.00265957 0.00265957 ... 0.00265957 0.00265957 0.00265957]\n",
      " ...\n",
      " [0.00265957 0.00265957 0.00265957 ... 0.00265957 0.00265957 0.00265957]\n",
      " [0.00265957 0.00265957 0.00265957 ... 0.00265957 0.00265957 0.00265957]\n",
      " [0.00265957 0.00265957 0.00265957 ... 0.00265957 0.00265957 0.00265957]]\n",
      "[1. 1. 1. ... 1. 1. 1.]\n"
     ]
    },
    {
     "data": {
      "image/png": "[encoded data removed]",
      "text/plain": [
       "<Figure size 432x288 with 1 Axes>"
      ]
     },
     "metadata": {
      "needs_background": "light"
     },
     "output_type": "display_data"
    },
    {
     "name": "stdout",
     "output_type": "stream",
     "text": [
      "[[0.00265957 0.00265957 0.00265957 ... 0.00265957 0.00265957 0.00265957]\n",
      " [0.00265957 0.00265957 0.00265957 ... 0.00265957 0.00265957 0.00265957]\n",
      " [0.00265957 0.00265957 0.00265957 ... 0.00265957 0.00265957 0.00265957]\n",
      " ...\n",
      " [0.00265957 0.00265957 0.00265957 ... 0.00265957 0.00265957 0.00265957]\n",
      " [0.00265957 0.00265957 0.00265957 ... 0.00265957 0.00265957 0.00265957]\n",
      " [0.00265957 0.00265957 0.00265957 ... 0.00265957 0.00265957 0.00265957]]\n",
      "[1. 1. 1. ... 1. 1. 1.]\n"
     ]
    },
    {
     "data": {
      "image/png": "[encoded data removed]",
      "text/plain": [
       "<Figure size 432x288 with 1 Axes>"
      ]
     },
     "metadata": {
      "needs_background": "light"
     },
     "output_type": "display_data"
    },
    {
     "name": "stdout",
     "output_type": "stream",
     "text": [
      "[[0.00265957 0.00265957 0.00265957 ... 0.00265957 0.00265957 0.00265957]\n",
      " [0.00265957 0.00265957 0.00265957 ... 0.00265957 0.00265957 0.00265957]\n",
      " [0.00265957 0.00265957 0.00265957 ... 0.00265957 0.00265957 0.00265957]\n",
      " ...\n",
      " [0.00265957 0.00265957 0.00265957 ... 0.00265957 0.00265957 0.00265957]\n",
      " [0.00265957 0.00265957 0.00265957 ... 0.00265957 0.00265957 0.00265957]\n",
      " [0.00265957 0.00265957 0.00265957 ... 0.00265957 0.00265957 0.00265957]]\n",
      "[1. 1. 1. ... 1. 1. 1.]\n"
     ]
    },
    {
     "data": {
      "image/png": "[encoded data removed]",
      "text/plain": [
       "<Figure size 432x288 with 1 Axes>"
      ]
     },
     "metadata": {
      "needs_background": "light"
     },
     "output_type": "display_data"
    },
    {
     "name": "stdout",
     "output_type": "stream",
     "text": [
      "[[0.00265957 0.00265957 0.00265957 ... 0.00265957 0.00265957 0.00265957]\n",
      " [0.00265957 0.00265957 0.00265957 ... 0.00265957 0.00265957 0.00265957]\n",
      " [0.00265957 0.00265957 0.00265957 ... 0.00265957 0.00265957 0.00265957]\n",
      " ...\n",
      " [0.00265957 0.00265957 0.00265957 ... 0.00265957 0.00265957 0.00265957]\n",
      " [0.00265957 0.00265957 0.00265957 ... 0.00265957 0.00265957 0.00265957]\n",
      " [0.00265957 0.00265957 0.00265957 ... 0.00265957 0.00265957 0.00265957]]\n",
      "[1. 1. 1. ... 1. 1. 1.]\n"
     ]
    },
    {
     "data": {
      "image/png": "[encoded data removed]",
      "text/plain": [
       "<Figure size 432x288 with 1 Axes>"
      ]
     },
     "metadata": {
      "needs_background": "light"
     },
     "output_type": "display_data"
    },
    {
     "name": "stdout",
     "output_type": "stream",
     "text": [
      "[[0.00265957 0.00265957 0.00265957 ... 0.00265957 0.00265957 0.00265957]\n",
      " [0.00265957 0.00265957 0.00265957 ... 0.00265957 0.00265957 0.00265957]\n",
      " [0.00265957 0.00265957 0.00265957 ... 0.00265957 0.00265957 0.00265957]\n",
      " ...\n",
      " [0.00265957 0.00265957 0.00265957 ... 0.00265957 0.00265957 0.00265957]\n",
      " [0.00265957 0.00265957 0.00265957 ... 0.00265957 0.00265957 0.00265957]\n",
      " [0.00265957 0.00265957 0.00265957 ... 0.00265957 0.00265957 0.00265957]]\n",
      "[1. 1. 1. ... 1. 1. 1.]\n"
     ]
    },
    {
     "data": {
      "image/png": "[encoded data removed]",
      "text/plain": [
       "<Figure size 432x288 with 1 Axes>"
      ]
     },
     "metadata": {
      "needs_background": "light"
     },
     "output_type": "display_data"
    },
    {
     "name": "stdout",
     "output_type": "stream",
     "text": [
      "[[0.00265957 0.00265957 0.00265957 ... 0.00265957 0.00265957 0.00265957]\n",
      " [0.00265957 0.00265957 0.00265957 ... 0.00265957 0.00265957 0.00265957]\n",
      " [0.00265957 0.00265957 0.00265957 ... 0.00265957 0.00265957 0.00265957]\n",
      " ...\n",
      " [0.00265957 0.00265957 0.00265957 ... 0.00265957 0.00265957 0.00265957]\n",
      " [0.00265957 0.00265957 0.00265957 ... 0.00265957 0.00265957 0.00265957]\n",
      " [0.00265957 0.00265957 0.00265957 ... 0.00265957 0.00265957 0.00265957]]\n",
      "[1. 1. 1. ... 1. 1. 1.]\n"
     ]
    },
    {
     "data": {
      "image/png": "[encoded data removed]",
      "text/plain": [
       "<Figure size 432x288 with 1 Axes>"
      ]
     },
     "metadata": {
      "needs_background": "light"
     },
     "output_type": "display_data"
    },
    {
     "name": "stdout",
     "output_type": "stream",
     "text": [
      "[[0.00265957 0.00265957 0.00265957 ... 0.00265957 0.00265957 0.00265957]\n",
      " [0.00265957 0.00265957 0.00265957 ... 0.00265957 0.00265957 0.00265957]\n",
      " [0.00265957 0.00265957 0.00265957 ... 0.00265957 0.00265957 0.00265957]\n",
      " ...\n",
      " [0.00265957 0.00265957 0.00265957 ... 0.00265957 0.00265957 0.00265957]\n",
      " [0.00265957 0.00265957 0.00265957 ... 0.00265957 0.00265957 0.00265957]\n",
      " [0.00265957 0.00265957 0.00265957 ... 0.00265957 0.00265957 0.00265957]]\n",
      "[1. 1. 1. ... 1. 1. 1.]\n"
     ]
    },
    {
     "data": {
      "image/png": "[encoded data removed]",
      "text/plain": [
       "<Figure size 432x288 with 1 Axes>"
      ]
     },
     "metadata": {
      "needs_background": "light"
     },
     "output_type": "display_data"
    },
    {
     "name": "stdout",
     "output_type": "stream",
     "text": [
      "[[0.00265957 0.00265957 0.00265957 ... 0.00265957 0.00265957 0.00265957]\n",
      " [0.00265957 0.00265957 0.00265957 ... 0.00265957 0.00265957 0.00265957]\n",
      " [0.00265957 0.00265957 0.00265957 ... 0.00265957 0.00265957 0.00265957]\n",
      " ...\n",
      " [0.00265957 0.00265957 0.00265957 ... 0.00265957 0.00265957 0.00265957]\n",
      " [0.00265957 0.00265957 0.00265957 ... 0.00265957 0.00265957 0.00265957]\n",
      " [0.00265957 0.00265957 0.00265957 ... 0.00265957 0.00265957 0.00265957]]\n",
      "[1. 1. 1. ... 1. 1. 1.]\n"
     ]
    },
    {
     "data": {
      "image/png": "[encoded data removed]",
      "text/plain": [
       "<Figure size 432x288 with 1 Axes>"
      ]
     },
     "metadata": {
      "needs_background": "light"
     },
     "output_type": "display_data"
    },
    {
     "name": "stdout",
     "output_type": "stream",
     "text": [
      "[[0.00265957 0.00265957 0.00265957 ... 0.00265957 0.00265957 0.00265957]\n",
      " [0.00265957 0.00265957 0.00265957 ... 0.00265957 0.00265957 0.00265957]\n",
      " [0.00265957 0.00265957 0.00265957 ... 0.00265957 0.00265957 0.00265957]\n",
      " ...\n",
      " [0.00265957 0.00265957 0.00265957 ... 0.00265957 0.00265957 0.00265957]\n",
      " [0.00265957 0.00265957 0.00265957 ... 0.00265957 0.00265957 0.00265957]\n",
      " [0.00265957 0.00265957 0.00265957 ... 0.00265957 0.00265957 0.00265957]]\n",
      "[1. 1. 1. ... 1. 1. 1.]\n"
     ]
    },
    {
     "data": {
      "image/png": "[encoded data removed]",
      "text/plain": [
       "<Figure size 432x288 with 1 Axes>"
      ]
     },
     "metadata": {
      "needs_background": "light"
     },
     "output_type": "display_data"
    },
    {
     "name": "stdout",
     "output_type": "stream",
     "text": [
      "[[0.00265957 0.00265957 0.00265957 ... 0.00265957 0.00265957 0.00265957]\n",
      " [0.00265957 0.00265957 0.00265957 ... 0.00265957 0.00265957 0.00265957]\n",
      " [0.00265957 0.00265957 0.00265957 ... 0.00265957 0.00265957 0.00265957]\n",
      " ...\n",
      " [0.00265957 0.00265957 0.00265957 ... 0.00265957 0.00265957 0.00265957]\n",
      " [0.00265957 0.00265957 0.00265957 ... 0.00265957 0.00265957 0.00265957]\n",
      " [0.00265957 0.00265957 0.00265957 ... 0.00265957 0.00265957 0.00265957]]\n",
      "[1. 1. 1. ... 1. 1. 1.]\n"
     ]
    },
    {
     "data": {
      "image/png": "[encoded data removed]",
      "text/plain": [
       "<Figure size 432x288 with 1 Axes>"
      ]
     },
     "metadata": {
      "needs_background": "light"
     },
     "output_type": "display_data"
    },
    {
     "name": "stdout",
     "output_type": "stream",
     "text": [
      "[[0.00265957 0.00265957 0.00265957 ... 0.00265957 0.00265957 0.00265957]\n",
      " [0.00265957 0.00265957 0.00265957 ... 0.00265957 0.00265957 0.00265957]\n",
      " [0.00265957 0.00265957 0.00265957 ... 0.00265957 0.00265957 0.00265957]\n",
      " ...\n",
      " [0.00265957 0.00265957 0.00265957 ... 0.00265957 0.00265957 0.00265957]\n",
      " [0.00265957 0.00265957 0.00265957 ... 0.00265957 0.00265957 0.00265957]\n",
      " [0.00265957 0.00265957 0.00265957 ... 0.00265957 0.00265957 0.00265957]]\n",
      "[1. 1. 1. ... 1. 1. 1.]\n"
     ]
    },
    {
     "data": {
      "image/png": "[encoded data removed]",
      "text/plain": [
       "<Figure size 432x288 with 1 Axes>"
      ]
     },
     "metadata": {
      "needs_background": "light"
     },
     "output_type": "display_data"
    },
    {
     "name": "stdout",
     "output_type": "stream",
     "text": [
      "[[0.00265957 0.00265957 0.00265957 ... 0.00265957 0.00265957 0.00265957]\n",
      " [0.00265957 0.00265957 0.00265957 ... 0.00265957 0.00265957 0.00265957]\n",
      " [0.00265957 0.00265957 0.00265957 ... 0.00265957 0.00265957 0.00265957]\n",
      " ...\n",
      " [0.00265957 0.00265957 0.00265957 ... 0.00265957 0.00265957 0.00265957]\n",
      " [0.00265957 0.00265957 0.00265957 ... 0.00265957 0.00265957 0.00265957]\n",
      " [0.00265957 0.00265957 0.00265957 ... 0.00265957 0.00265957 0.00265957]]\n",
      "[1. 1. 1. ... 1. 1. 1.]\n"
     ]
    },
    {
     "data": {
      "image/png": "[encoded data removed]",
      "text/plain": [
       "<Figure size 432x288 with 1 Axes>"
      ]
     },
     "metadata": {
      "needs_background": "light"
     },
     "output_type": "display_data"
    },
    {
     "name": "stdout",
     "output_type": "stream",
     "text": [
      "[[0.00265957 0.00265957 0.00265957 ... 0.00265957 0.00265957 0.00265957]\n",
      " [0.00265957 0.00265957 0.00265957 ... 0.00265957 0.00265957 0.00265957]\n",
      " [0.00265957 0.00265957 0.00265957 ... 0.00265957 0.00265957 0.00265957]\n",
      " ...\n",
      " [0.00265957 0.00265957 0.00265957 ... 0.00265957 0.00265957 0.00265957]\n",
      " [0.00265957 0.00265957 0.00265957 ... 0.00265957 0.00265957 0.00265957]\n",
      " [0.00265957 0.00265957 0.00265957 ... 0.00265957 0.00265957 0.00265957]]\n",
      "[1. 1. 1. ... 1. 1. 1.]\n"
     ]
    },
    {
     "data": {
      "image/png": "[encoded data removed]",
      "text/plain": [
       "<Figure size 432x288 with 1 Axes>"
      ]
     },
     "metadata": {
      "needs_background": "light"
     },
     "output_type": "display_data"
    },
    {
     "name": "stdout",
     "output_type": "stream",
     "text": [
      "[[0.00265957 0.00265957 0.00265957 ... 0.00265957 0.00265957 0.00265957]\n",
      " [0.00265957 0.00265957 0.00265957 ... 0.00265957 0.00265957 0.00265957]\n",
      " [0.00265957 0.00265957 0.00265957 ... 0.00265957 0.00265957 0.00265957]\n",
      " ...\n",
      " [0.00265957 0.00265957 0.00265957 ... 0.00265957 0.00265957 0.00265957]\n",
      " [0.00265957 0.00265957 0.00265957 ... 0.00265957 0.00265957 0.00265957]\n",
      " [0.00265957 0.00265957 0.00265957 ... 0.00265957 0.00265957 0.00265957]]\n",
      "[1. 1. 1. ... 1. 1. 1.]\n"
     ]
    },
    {
     "data": {
      "image/png": "[encoded data removed]",
      "text/plain": [
       "<Figure size 432x288 with 1 Axes>"
      ]
     },
     "metadata": {
      "needs_background": "light"
     },
     "output_type": "display_data"
    },
    {
     "name": "stdout",
     "output_type": "stream",
     "text": [
      "[[0.00265957 0.00265957 0.00265957 ... 0.00265957 0.00265957 0.00265957]\n",
      " [0.00265957 0.00265957 0.00265957 ... 0.00265957 0.00265957 0.00265957]\n",
      " [0.00265957 0.00265957 0.00265957 ... 0.00265957 0.00265957 0.00265957]\n",
      " ...\n",
      " [0.00265957 0.00265957 0.00265957 ... 0.00265957 0.00265957 0.00265957]\n",
      " [0.00265957 0.00265957 0.00265957 ... 0.00265957 0.00265957 0.00265957]\n",
      " [0.00265957 0.00265957 0.00265957 ... 0.00265957 0.00265957 0.00265957]]\n",
      "[1. 1. 1. ... 1. 1. 1.]\n"
     ]
    },
    {
     "data": {
      "image/png": "[encoded data removed]",
      "text/plain": [
       "<Figure size 432x288 with 1 Axes>"
      ]
     },
     "metadata": {
      "needs_background": "light"
     },
     "output_type": "display_data"
    },
    {
     "name": "stdout",
     "output_type": "stream",
     "text": [
      "[[0.00265957 0.00265957 0.00265957 ... 0.00265957 0.00265957 0.00265957]\n",
      " [0.00265957 0.00265957 0.00265957 ... 0.00265957 0.00265957 0.00265957]\n",
      " [0.00265957 0.00265957 0.00265957 ... 0.00265957 0.00265957 0.00265957]\n",
      " ...\n",
      " [0.00265957 0.00265957 0.00265957 ... 0.00265957 0.00265957 0.00265957]\n",
      " [0.00265957 0.00265957 0.00265957 ... 0.00265957 0.00265957 0.00265957]\n",
      " [0.00265957 0.00265957 0.00265957 ... 0.00265957 0.00265957 0.00265957]]\n",
      "[1. 1. 1. ... 1. 1. 1.]\n"
     ]
    },
    {
     "data": {
      "image/png": "[encoded data removed]",
      "text/plain": [
       "<Figure size 432x288 with 1 Axes>"
      ]
     },
     "metadata": {
      "needs_background": "light"
     },
     "output_type": "display_data"
    },
    {
     "name": "stdout",
     "output_type": "stream",
     "text": [
      "[[0.00265957 0.00265957 0.00265957 ... 0.00265957 0.00265957 0.00265957]\n",
      " [0.00265957 0.00265957 0.00265957 ... 0.00265957 0.00265957 0.00265957]\n",
      " [0.00265957 0.00265957 0.00265957 ... 0.00265957 0.00265957 0.00265957]\n",
      " ...\n",
      " [0.00265957 0.00265957 0.00265957 ... 0.00265957 0.00265957 0.00265957]\n",
      " [0.00265957 0.00265957 0.00265957 ... 0.00265957 0.00265957 0.00265957]\n",
      " [0.00265957 0.00265957 0.00265957 ... 0.00265957 0.00265957 0.00265957]]\n",
      "[1. 1. 1. ... 1. 1. 1.]\n"
     ]
    },
    {
     "data": {
      "image/png": "[encoded data removed]",
      "text/plain": [
       "<Figure size 432x288 with 1 Axes>"
      ]
     },
     "metadata": {
      "needs_background": "light"
     },
     "output_type": "display_data"
    },
    {
     "name": "stdout",
     "output_type": "stream",
     "text": [
      "[[0.00265957 0.00265957 0.00265957 ... 0.00265957 0.00265957 0.00265957]\n",
      " [0.00265957 0.00265957 0.00265957 ... 0.00265957 0.00265957 0.00265957]\n",
      " [0.00265957 0.00265957 0.00265957 ... 0.00265957 0.00265957 0.00265957]\n",
      " ...\n",
      " [0.00265957 0.00265957 0.00265957 ... 0.00265957 0.00265957 0.00265957]\n",
      " [0.00265957 0.00265957 0.00265957 ... 0.00265957 0.00265957 0.00265957]\n",
      " [0.00265957 0.00265957 0.00265957 ... 0.00265957 0.00265957 0.00265957]]\n",
      "[1. 1. 1. ... 1. 1. 1.]\n"
     ]
    },
    {
     "data": {
      "image/png": "[encoded data removed]",
      "text/plain": [
       "<Figure size 432x288 with 1 Axes>"
      ]
     },
     "metadata": {
      "needs_background": "light"
     },
     "output_type": "display_data"
    },
    {
     "name": "stdout",
     "output_type": "stream",
     "text": [
      "[[0.00265957 0.00265957 0.00265957 ... 0.00265957 0.00265957 0.00265957]\n",
      " [0.00265957 0.00265957 0.00265957 ... 0.00265957 0.00265957 0.00265957]\n",
      " [0.00265957 0.00265957 0.00265957 ... 0.00265957 0.00265957 0.00265957]\n",
      " ...\n",
      " [0.00265957 0.00265957 0.00265957 ... 0.00265957 0.00265957 0.00265957]\n",
      " [0.00265957 0.00265957 0.00265957 ... 0.00265957 0.00265957 0.00265957]\n",
      " [0.00265957 0.00265957 0.00265957 ... 0.00265957 0.00265957 0.00265957]]\n",
      "[1. 1. 1. ... 1. 1. 1.]\n"
     ]
    },
    {
     "data": {
      "image/png": "[encoded data removed]",
      "text/plain": [
       "<Figure size 432x288 with 1 Axes>"
      ]
     },
     "metadata": {
      "needs_background": "light"
     },
     "output_type": "display_data"
    },
    {
     "name": "stdout",
     "output_type": "stream",
     "text": [
      "[[0.00265957 0.00265957 0.00265957 ... 0.00265957 0.00265957 0.00265957]\n",
      " [0.00265957 0.00265957 0.00265957 ... 0.00265957 0.00265957 0.00265957]\n",
      " [0.00265957 0.00265957 0.00265957 ... 0.00265957 0.00265957 0.00265957]\n",
      " ...\n",
      " [0.00265957 0.00265957 0.00265957 ... 0.00265957 0.00265957 0.00265957]\n",
      " [0.00265957 0.00265957 0.00265957 ... 0.00265957 0.00265957 0.00265957]\n",
      " [0.00265957 0.00265957 0.00265957 ... 0.00265957 0.00265957 0.00265957]]\n",
      "[1. 1. 1. ... 1. 1. 1.]\n"
     ]
    },
    {
     "data": {
      "image/png": "[encoded data removed]",
      "text/plain": [
       "<Figure size 432x288 with 1 Axes>"
      ]
     },
     "metadata": {
      "needs_background": "light"
     },
     "output_type": "display_data"
    },
    {
     "name": "stdout",
     "output_type": "stream",
     "text": [
      "[[0.00265957 0.00265957 0.00265957 ... 0.00265957 0.00265957 0.00265957]\n",
      " [0.00265957 0.00265957 0.00265957 ... 0.00265957 0.00265957 0.00265957]\n",
      " [0.00265957 0.00265957 0.00265957 ... 0.00265957 0.00265957 0.00265957]\n",
      " ...\n",
      " [0.00265957 0.00265957 0.00265957 ... 0.00265957 0.00265957 0.00265957]\n",
      " [0.00265957 0.00265957 0.00265957 ... 0.00265957 0.00265957 0.00265957]\n",
      " [0.00265957 0.00265957 0.00265957 ... 0.00265957 0.00265957 0.00265957]]\n",
      "[1. 1. 1. ... 1. 1. 1.]\n"
     ]
    },
    {
     "data": {
      "image/png": "[encoded data removed]",
      "text/plain": [
       "<Figure size 432x288 with 1 Axes>"
      ]
     },
     "metadata": {
      "needs_background": "light"
     },
     "output_type": "display_data"
    },
    {
     "name": "stdout",
     "output_type": "stream",
     "text": [
      "[[0.00265957 0.00265957 0.00265957 ... 0.00265957 0.00265957 0.00265957]\n",
      " [0.00265957 0.00265957 0.00265957 ... 0.00265957 0.00265957 0.00265957]\n",
      " [0.00265957 0.00265957 0.00265957 ... 0.00265957 0.00265957 0.00265957]\n",
      " ...\n",
      " [0.00265957 0.00265957 0.00265957 ... 0.00265957 0.00265957 0.00265957]\n",
      " [0.00265957 0.00265957 0.00265957 ... 0.00265957 0.00265957 0.00265957]\n",
      " [0.00265957 0.00265957 0.00265957 ... 0.00265957 0.00265957 0.00265957]]\n",
      "[1. 1. 1. ... 1. 1. 1.]\n"
     ]
    },
    {
     "data": {
      "image/png": "[encoded data removed]",
      "text/plain": [
       "<Figure size 432x288 with 1 Axes>"
      ]
     },
     "metadata": {
      "needs_background": "light"
     },
     "output_type": "display_data"
    },
    {
     "name": "stdout",
     "output_type": "stream",
     "text": [
      "[[0.00265957 0.00265957 0.00265957 ... 0.00265957 0.00265957 0.00265957]\n",
      " [0.00265957 0.00265957 0.00265957 ... 0.00265957 0.00265957 0.00265957]\n",
      " [0.00265957 0.00265957 0.00265957 ... 0.00265957 0.00265957 0.00265957]\n",
      " ...\n",
      " [0.00265957 0.00265957 0.00265957 ... 0.00265957 0.00265957 0.00265957]\n",
      " [0.00265957 0.00265957 0.00265957 ... 0.00265957 0.00265957 0.00265957]\n",
      " [0.00265957 0.00265957 0.00265957 ... 0.00265957 0.00265957 0.00265957]]\n",
      "[1. 1. 1. ... 1. 1. 1.]\n"
     ]
    },
    {
     "data": {
      "image/png": "[encoded data removed]",
      "text/plain": [
       "<Figure size 432x288 with 1 Axes>"
      ]
     },
     "metadata": {
      "needs_background": "light"
     },
     "output_type": "display_data"
    },
    {
     "name": "stdout",
     "output_type": "stream",
     "text": [
      "[[0.00265957 0.00265957 0.00265957 ... 0.00265957 0.00265957 0.00265957]\n",
      " [0.00265957 0.00265957 0.00265957 ... 0.00265957 0.00265957 0.00265957]\n",
      " [0.00265957 0.00265957 0.00265957 ... 0.00265957 0.00265957 0.00265957]\n",
      " ...\n",
      " [0.00265957 0.00265957 0.00265957 ... 0.00265957 0.00265957 0.00265957]\n",
      " [0.00265957 0.00265957 0.00265957 ... 0.00265957 0.00265957 0.00265957]\n",
      " [0.00265957 0.00265957 0.00265957 ... 0.00265957 0.00265957 0.00265957]]\n",
      "[1. 1. 1. ... 1. 1. 1.]\n"
     ]
    },
    {
     "data": {
      "image/png": "[encoded data removed]",
      "text/plain": [
       "<Figure size 432x288 with 1 Axes>"
      ]
     },
     "metadata": {
      "needs_background": "light"
     },
     "output_type": "display_data"
    },
    {
     "name": "stdout",
     "output_type": "stream",
     "text": [
      "[[0.00265957 0.00265957 0.00265957 ... 0.00265957 0.00265957 0.00265957]\n",
      " [0.00265957 0.00265957 0.00265957 ... 0.00265957 0.00265957 0.00265957]\n",
      " [0.00265957 0.00265957 0.00265957 ... 0.00265957 0.00265957 0.00265957]\n",
      " ...\n",
      " [0.00265957 0.00265957 0.00265957 ... 0.00265957 0.00265957 0.00265957]\n",
      " [0.00265957 0.00265957 0.00265957 ... 0.00265957 0.00265957 0.00265957]\n",
      " [0.00265957 0.00265957 0.00265957 ... 0.00265957 0.00265957 0.00265957]]\n",
      "[1. 1. 1. ... 1. 1. 1.]\n"
     ]
    },
    {
     "data": {
      "image/png": "[encoded data removed]",
      "text/plain": [
       "<Figure size 432x288 with 1 Axes>"
      ]
     },
     "metadata": {
      "needs_background": "light"
     },
     "output_type": "display_data"
    },
    {
     "name": "stdout",
     "output_type": "stream",
     "text": [
      "[[0.00265957 0.00265957 0.00265957 ... 0.00265957 0.00265957 0.00265957]\n",
      " [0.00265957 0.00265957 0.00265957 ... 0.00265957 0.00265957 0.00265957]\n",
      " [0.00265957 0.00265957 0.00265957 ... 0.00265957 0.00265957 0.00265957]\n",
      " ...\n",
      " [0.00265957 0.00265957 0.00265957 ... 0.00265957 0.00265957 0.00265957]\n",
      " [0.00265957 0.00265957 0.00265957 ... 0.00265957 0.00265957 0.00265957]\n",
      " [0.00265957 0.00265957 0.00265957 ... 0.00265957 0.00265957 0.00265957]]\n",
      "[1. 1. 1. ... 1. 1. 1.]\n"
     ]
    },
    {
     "data": {
      "image/png": "[encoded data removed]",
      "text/plain": [
       "<Figure size 432x288 with 1 Axes>"
      ]
     },
     "metadata": {
      "needs_background": "light"
     },
     "output_type": "display_data"
    },
    {
     "name": "stdout",
     "output_type": "stream",
     "text": [
      "[[0.00265957 0.00265957 0.00265957 ... 0.00265957 0.00265957 0.00265957]\n",
      " [0.00265957 0.00265957 0.00265957 ... 0.00265957 0.00265957 0.00265957]\n",
      " [0.00265957 0.00265957 0.00265957 ... 0.00265957 0.00265957 0.00265957]\n",
      " ...\n",
      " [0.00265957 0.00265957 0.00265957 ... 0.00265957 0.00265957 0.00265957]\n",
      " [0.00265957 0.00265957 0.00265957 ... 0.00265957 0.00265957 0.00265957]\n",
      " [0.00265957 0.00265957 0.00265957 ... 0.00265957 0.00265957 0.00265957]]\n",
      "[1. 1. 1. ... 1. 1. 1.]\n"
     ]
    },
    {
     "data": {
      "image/png": "[encoded data removed]",
      "text/plain": [
       "<Figure size 432x288 with 1 Axes>"
      ]
     },
     "metadata": {
      "needs_background": "light"
     },
     "output_type": "display_data"
    },
    {
     "name": "stdout",
     "output_type": "stream",
     "text": [
      "[[0.00265957 0.00265957 0.00265957 ... 0.00265957 0.00265957 0.00265957]\n",
      " [0.00265957 0.00265957 0.00265957 ... 0.00265957 0.00265957 0.00265957]\n",
      " [0.00265957 0.00265957 0.00265957 ... 0.00265957 0.00265957 0.00265957]\n",
      " ...\n",
      " [0.00265957 0.00265957 0.00265957 ... 0.00265957 0.00265957 0.00265957]\n",
      " [0.00265957 0.00265957 0.00265957 ... 0.00265957 0.00265957 0.00265957]\n",
      " [0.00265957 0.00265957 0.00265957 ... 0.00265957 0.00265957 0.00265957]]\n",
      "[1. 1. 1. ... 1. 1. 1.]\n"
     ]
    },
    {
     "data": {
      "image/png": "[encoded data removed]",
      "text/plain": [
       "<Figure size 432x288 with 1 Axes>"
      ]
     },
     "metadata": {
      "needs_background": "light"
     },
     "output_type": "display_data"
    },
    {
     "name": "stdout",
     "output_type": "stream",
     "text": [
      "[[0.00265957 0.00265957 0.00265957 ... 0.00265957 0.00265957 0.00265957]\n",
      " [0.00265957 0.00265957 0.00265957 ... 0.00265957 0.00265957 0.00265957]\n",
      " [0.00265957 0.00265957 0.00265957 ... 0.00265957 0.00265957 0.00265957]\n",
      " ...\n",
      " [0.00265957 0.00265957 0.00265957 ... 0.00265957 0.00265957 0.00265957]\n",
      " [0.00265957 0.00265957 0.00265957 ... 0.00265957 0.00265957 0.00265957]\n",
      " [0.00265957 0.00265957 0.00265957 ... 0.00265957 0.00265957 0.00265957]]\n",
      "[1. 1. 1. ... 1. 1. 1.]\n"
     ]
    },
    {
     "data": {
      "image/png": "[encoded data removed]",
      "text/plain": [
       "<Figure size 432x288 with 1 Axes>"
      ]
     },
     "metadata": {
      "needs_background": "light"
     },
     "output_type": "display_data"
    },
    {
     "name": "stdout",
     "output_type": "stream",
     "text": [
      "[[0.00265957 0.00265957 0.00265957 ... 0.00265957 0.00265957 0.00265957]\n",
      " [0.00265957 0.00265957 0.00265957 ... 0.00265957 0.00265957 0.00265957]\n",
      " [0.00265957 0.00265957 0.00265957 ... 0.00265957 0.00265957 0.00265957]\n",
      " ...\n",
      " [0.00265957 0.00265957 0.00265957 ... 0.00265957 0.00265957 0.00265957]\n",
      " [0.00265957 0.00265957 0.00265957 ... 0.00265957 0.00265957 0.00265957]\n",
      " [0.00265957 0.00265957 0.00265957 ... 0.00265957 0.00265957 0.00265957]]\n",
      "[1. 1. 1. ... 1. 1. 1.]\n"
     ]
    },
    {
     "data": {
      "image/png": "[encoded data removed]",
      "text/plain": [
       "<Figure size 432x288 with 1 Axes>"
      ]
     },
     "metadata": {
      "needs_background": "light"
     },
     "output_type": "display_data"
    },
    {
     "name": "stdout",
     "output_type": "stream",
     "text": [
      "[[0.00265957 0.00265957 0.00265957 ... 0.00265957 0.00265957 0.00265957]\n",
      " [0.00265957 0.00265957 0.00265957 ... 0.00265957 0.00265957 0.00265957]\n",
      " [0.00265957 0.00265957 0.00265957 ... 0.00265957 0.00265957 0.00265957]\n",
      " ...\n",
      " [0.00265957 0.00265957 0.00265957 ... 0.00265957 0.00265957 0.00265957]\n",
      " [0.00265957 0.00265957 0.00265957 ... 0.00265957 0.00265957 0.00265957]\n",
      " [0.00265957 0.00265957 0.00265957 ... 0.00265957 0.00265957 0.00265957]]\n",
      "[1. 1. 1. ... 1. 1. 1.]\n"
     ]
    },
    {
     "data": {
      "image/png": "[encoded data removed]",
      "text/plain": [
       "<Figure size 432x288 with 1 Axes>"
      ]
     },
     "metadata": {
      "needs_background": "light"
     },
     "output_type": "display_data"
    },
    {
     "name": "stdout",
     "output_type": "stream",
     "text": [
      "[[0.00265957 0.00265957 0.00265957 ... 0.00265957 0.00265957 0.00265957]\n",
      " [0.00265957 0.00265957 0.00265957 ... 0.00265957 0.00265957 0.00265957]\n",
      " [0.00265957 0.00265957 0.00265957 ... 0.00265957 0.00265957 0.00265957]\n",
      " ...\n",
      " [0.00265957 0.00265957 0.00265957 ... 0.00265957 0.00265957 0.00265957]\n",
      " [0.00265957 0.00265957 0.00265957 ... 0.00265957 0.00265957 0.00265957]\n",
      " [0.00265957 0.00265957 0.00265957 ... 0.00265957 0.00265957 0.00265957]]\n",
      "[1. 1. 1. ... 1. 1. 1.]\n"
     ]
    },
    {
     "data": {
      "image/png": "[encoded data removed]",
      "text/plain": [
       "<Figure size 432x288 with 1 Axes>"
      ]
     },
     "metadata": {
      "needs_background": "light"
     },
     "output_type": "display_data"
    },
    {
     "name": "stdout",
     "output_type": "stream",
     "text": [
      "[[0.00265957 0.00265957 0.00265957 ... 0.00265957 0.00265957 0.00265957]\n",
      " [0.00265957 0.00265957 0.00265957 ... 0.00265957 0.00265957 0.00265957]\n",
      " [0.00265957 0.00265957 0.00265957 ... 0.00265957 0.00265957 0.00265957]\n",
      " ...\n",
      " [0.00265957 0.00265957 0.00265957 ... 0.00265957 0.00265957 0.00265957]\n",
      " [0.00265957 0.00265957 0.00265957 ... 0.00265957 0.00265957 0.00265957]\n",
      " [0.00265957 0.00265957 0.00265957 ... 0.00265957 0.00265957 0.00265957]]\n",
      "[1. 1. 1. ... 1. 1. 1.]\n"
     ]
    },
    {
     "data": {
      "image/png": "[encoded data removed]",
      "text/plain": [
       "<Figure size 432x288 with 1 Axes>"
      ]
     },
     "metadata": {
      "needs_background": "light"
     },
     "output_type": "display_data"
    },
    {
     "name": "stdout",
     "output_type": "stream",
     "text": [
      "[[0.00265957 0.00265957 0.00265957 ... 0.00265957 0.00265957 0.00265957]\n",
      " [0.00265957 0.00265957 0.00265957 ... 0.00265957 0.00265957 0.00265957]\n",
      " [0.00265957 0.00265957 0.00265957 ... 0.00265957 0.00265957 0.00265957]\n",
      " ...\n",
      " [0.00265957 0.00265957 0.00265957 ... 0.00265957 0.00265957 0.00265957]\n",
      " [0.00265957 0.00265957 0.00265957 ... 0.00265957 0.00265957 0.00265957]\n",
      " [0.00265957 0.00265957 0.00265957 ... 0.00265957 0.00265957 0.00265957]]\n",
      "[1. 1. 1. ... 1. 1. 1.]\n"
     ]
    },
    {
     "data": {
      "image/png": "[encoded data removed]",
      "text/plain": [
       "<Figure size 432x288 with 1 Axes>"
      ]
     },
     "metadata": {
      "needs_background": "light"
     },
     "output_type": "display_data"
    },
    {
     "name": "stdout",
     "output_type": "stream",
     "text": [
      "[[0.00265957 0.00265957 0.00265957 ... 0.00265957 0.00265957 0.00265957]\n",
      " [0.00265957 0.00265957 0.00265957 ... 0.00265957 0.00265957 0.00265957]\n",
      " [0.00265957 0.00265957 0.00265957 ... 0.00265957 0.00265957 0.00265957]\n",
      " ...\n",
      " [0.00265957 0.00265957 0.00265957 ... 0.00265957 0.00265957 0.00265957]\n",
      " [0.00265957 0.00265957 0.00265957 ... 0.00265957 0.00265957 0.00265957]\n",
      " [0.00265957 0.00265957 0.00265957 ... 0.00265957 0.00265957 0.00265957]]\n",
      "[1. 1. 1. ... 1. 1. 1.]\n"
     ]
    },
    {
     "data": {
      "image/png": "[encoded data removed]",
      "text/plain": [
       "<Figure size 432x288 with 1 Axes>"
      ]
     },
     "metadata": {
      "needs_background": "light"
     },
     "output_type": "display_data"
    },
    {
     "name": "stdout",
     "output_type": "stream",
     "text": [
      "[[0.00265957 0.00265957 0.00265957 ... 0.00265957 0.00265957 0.00265957]\n",
      " [0.00265957 0.00265957 0.00265957 ... 0.00265957 0.00265957 0.00265957]\n",
      " [0.00265957 0.00265957 0.00265957 ... 0.00265957 0.00265957 0.00265957]\n",
      " ...\n",
      " [0.00265957 0.00265957 0.00265957 ... 0.00265957 0.00265957 0.00265957]\n",
      " [0.00265957 0.00265957 0.00265957 ... 0.00265957 0.00265957 0.00265957]\n",
      " [0.00265957 0.00265957 0.00265957 ... 0.00265957 0.00265957 0.00265957]]\n",
      "[1. 1. 1. ... 1. 1. 1.]\n"
     ]
    },
    {
     "data": {
      "image/png": "[encoded data removed]",
      "text/plain": [
       "<Figure size 432x288 with 1 Axes>"
      ]
     },
     "metadata": {
      "needs_background": "light"
     },
     "output_type": "display_data"
    },
    {
     "name": "stdout",
     "output_type": "stream",
     "text": [
      "[[0.00265957 0.00265957 0.00265957 ... 0.00265957 0.00265957 0.00265957]\n",
      " [0.00265957 0.00265957 0.00265957 ... 0.00265957 0.00265957 0.00265957]\n",
      " [0.00265957 0.00265957 0.00265957 ... 0.00265957 0.00265957 0.00265957]\n",
      " ...\n",
      " [0.00265957 0.00265957 0.00265957 ... 0.00265957 0.00265957 0.00265957]\n",
      " [0.00265957 0.00265957 0.00265957 ... 0.00265957 0.00265957 0.00265957]\n",
      " [0.00265957 0.00265957 0.00265957 ... 0.00265957 0.00265957 0.00265957]]\n",
      "[1. 1. 1. ... 1. 1. 1.]\n"
     ]
    },
    {
     "data": {
      "image/png": "[encoded data removed]",
      "text/plain": [
       "<Figure size 432x288 with 1 Axes>"
      ]
     },
     "metadata": {
      "needs_background": "light"
     },
     "output_type": "display_data"
    },
    {
     "name": "stdout",
     "output_type": "stream",
     "text": [
      "[[0.00265957 0.00265957 0.00265957 ... 0.00265957 0.00265957 0.00265957]\n",
      " [0.00265957 0.00265957 0.00265957 ... 0.00265957 0.00265957 0.00265957]\n",
      " [0.00265957 0.00265957 0.00265957 ... 0.00265957 0.00265957 0.00265957]\n",
      " ...\n",
      " [0.00265957 0.00265957 0.00265957 ... 0.00265957 0.00265957 0.00265957]\n",
      " [0.00265957 0.00265957 0.00265957 ... 0.00265957 0.00265957 0.00265957]\n",
      " [0.00265957 0.00265957 0.00265957 ... 0.00265957 0.00265957 0.00265957]]\n",
      "[1. 1. 1. ... 1. 1. 1.]\n"
     ]
    },
    {
     "data": {
      "image/png": "[encoded data removed]",
      "text/plain": [
       "<Figure size 432x288 with 1 Axes>"
      ]
     },
     "metadata": {
      "needs_background": "light"
     },
     "output_type": "display_data"
    },
    {
     "name": "stdout",
     "output_type": "stream",
     "text": [
      "[[0.00265957 0.00265957 0.00265957 ... 0.00265957 0.00265957 0.00265957]\n",
      " [0.00265957 0.00265957 0.00265957 ... 0.00265957 0.00265957 0.00265957]\n",
      " [0.00265957 0.00265957 0.00265957 ... 0.00265957 0.00265957 0.00265957]\n",
      " ...\n",
      " [0.00265957 0.00265957 0.00265957 ... 0.00265957 0.00265957 0.00265957]\n",
      " [0.00265957 0.00265957 0.00265957 ... 0.00265957 0.00265957 0.00265957]\n",
      " [0.00265957 0.00265957 0.00265957 ... 0.00265957 0.00265957 0.00265957]]\n",
      "[1. 1. 1. ... 1. 1. 1.]\n"
     ]
    },
    {
     "data": {
      "image/png": "[encoded data removed]",
      "text/plain": [
       "<Figure size 432x288 with 1 Axes>"
      ]
     },
     "metadata": {
      "needs_background": "light"
     },
     "output_type": "display_data"
    },
    {
     "name": "stdout",
     "output_type": "stream",
     "text": [
      "[[0.00265957 0.00265957 0.00265957 ... 0.00265957 0.00265957 0.00265957]\n",
      " [0.00265957 0.00265957 0.00265957 ... 0.00265957 0.00265957 0.00265957]\n",
      " [0.00265957 0.00265957 0.00265957 ... 0.00265957 0.00265957 0.00265957]\n",
      " ...\n",
      " [0.00265957 0.00265957 0.00265957 ... 0.00265957 0.00265957 0.00265957]\n",
      " [0.00265957 0.00265957 0.00265957 ... 0.00265957 0.00265957 0.00265957]\n",
      " [0.00265957 0.00265957 0.00265957 ... 0.00265957 0.00265957 0.00265957]]\n",
      "[1. 1. 1. ... 1. 1. 1.]\n"
     ]
    },
    {
     "data": {
      "image/png": "[encoded data removed]",
      "text/plain": [
       "<Figure size 432x288 with 1 Axes>"
      ]
     },
     "metadata": {
      "needs_background": "light"
     },
     "output_type": "display_data"
    },
    {
     "name": "stdout",
     "output_type": "stream",
     "text": [
      "[[0.00265957 0.00265957 0.00265957 ... 0.00265957 0.00265957 0.00265957]\n",
      " [0.00265957 0.00265957 0.00265957 ... 0.00265957 0.00265957 0.00265957]\n",
      " [0.00265957 0.00265957 0.00265957 ... 0.00265957 0.00265957 0.00265957]\n",
      " ...\n",
      " [0.00265957 0.00265957 0.00265957 ... 0.00265957 0.00265957 0.00265957]\n",
      " [0.00265957 0.00265957 0.00265957 ... 0.00265957 0.00265957 0.00265957]\n",
      " [0.00265957 0.00265957 0.00265957 ... 0.00265957 0.00265957 0.00265957]]\n",
      "[1. 1. 1. ... 1. 1. 1.]\n"
     ]
    },
    {
     "data": {
      "image/png": "[encoded data removed]",
      "text/plain": [
       "<Figure size 432x288 with 1 Axes>"
      ]
     },
     "metadata": {
      "needs_background": "light"
     },
     "output_type": "display_data"
    },
    {
     "name": "stdout",
     "output_type": "stream",
     "text": [
      "[[0.00265957 0.00265957 0.00265957 ... 0.00265957 0.00265957 0.00265957]\n",
      " [0.00265957 0.00265957 0.00265957 ... 0.00265957 0.00265957 0.00265957]\n",
      " [0.00265957 0.00265957 0.00265957 ... 0.00265957 0.00265957 0.00265957]\n",
      " ...\n",
      " [0.00265957 0.00265957 0.00265957 ... 0.00265957 0.00265957 0.00265957]\n",
      " [0.00265957 0.00265957 0.00265957 ... 0.00265957 0.00265957 0.00265957]\n",
      " [0.00265957 0.00265957 0.00265957 ... 0.00265957 0.00265957 0.00265957]]\n",
      "[1. 1. 1. ... 1. 1. 1.]\n"
     ]
    },
    {
     "data": {
      "image/png": "[encoded data removed]",
      "text/plain": [
       "<Figure size 432x288 with 1 Axes>"
      ]
     },
     "metadata": {
      "needs_background": "light"
     },
     "output_type": "display_data"
    },
    {
     "name": "stdout",
     "output_type": "stream",
     "text": [
      "[[0.00265957 0.00265957 0.00265957 ... 0.00265957 0.00265957 0.00265957]\n",
      " [0.00265957 0.00265957 0.00265957 ... 0.00265957 0.00265957 0.00265957]\n",
      " [0.00265957 0.00265957 0.00265957 ... 0.00265957 0.00265957 0.00265957]\n",
      " ...\n",
      " [0.00265957 0.00265957 0.00265957 ... 0.00265957 0.00265957 0.00265957]\n",
      " [0.00265957 0.00265957 0.00265957 ... 0.00265957 0.00265957 0.00265957]\n",
      " [0.00265957 0.00265957 0.00265957 ... 0.00265957 0.00265957 0.00265957]]\n",
      "[1. 1. 1. ... 1. 1. 1.]\n"
     ]
    },
    {
     "data": {
      "image/png": "[encoded data removed]",
      "text/plain": [
       "<Figure size 432x288 with 1 Axes>"
      ]
     },
     "metadata": {
      "needs_background": "light"
     },
     "output_type": "display_data"
    },
    {
     "name": "stdout",
     "output_type": "stream",
     "text": [
      "[[0.00265957 0.00265957 0.00265957 ... 0.00265957 0.00265957 0.00265957]\n",
      " [0.00265957 0.00265957 0.00265957 ... 0.00265957 0.00265957 0.00265957]\n",
      " [0.00265957 0.00265957 0.00265957 ... 0.00265957 0.00265957 0.00265957]\n",
      " ...\n",
      " [0.00265957 0.00265957 0.00265957 ... 0.00265957 0.00265957 0.00265957]\n",
      " [0.00265957 0.00265957 0.00265957 ... 0.00265957 0.00265957 0.00265957]\n",
      " [0.00265957 0.00265957 0.00265957 ... 0.00265957 0.00265957 0.00265957]]\n",
      "[1. 1. 1. ... 1. 1. 1.]\n"
     ]
    },
    {
     "data": {
      "image/png": "[encoded data removed]",
      "text/plain": [
       "<Figure size 432x288 with 1 Axes>"
      ]
     },
     "metadata": {
      "needs_background": "light"
     },
     "output_type": "display_data"
    },
    {
     "name": "stdout",
     "output_type": "stream",
     "text": [
      "[[0.00265957 0.00265957 0.00265957 ... 0.00265957 0.00265957 0.00265957]\n",
      " [0.00265957 0.00265957 0.00265957 ... 0.00265957 0.00265957 0.00265957]\n",
      " [0.00265957 0.00265957 0.00265957 ... 0.00265957 0.00265957 0.00265957]\n",
      " ...\n",
      " [0.00265957 0.00265957 0.00265957 ... 0.00265957 0.00265957 0.00265957]\n",
      " [0.00265957 0.00265957 0.00265957 ... 0.00265957 0.00265957 0.00265957]\n",
      " [0.00265957 0.00265957 0.00265957 ... 0.00265957 0.00265957 0.00265957]]\n",
      "[1. 1. 1. ... 1. 1. 1.]\n"
     ]
    },
    {
     "data": {
      "image/png": "[encoded data removed]",
      "text/plain": [
       "<Figure size 432x288 with 1 Axes>"
      ]
     },
     "metadata": {
      "needs_background": "light"
     },
     "output_type": "display_data"
    },
    {
     "name": "stdout",
     "output_type": "stream",
     "text": [
      "[[0.00265957 0.00265957 0.00265957 ... 0.00265957 0.00265957 0.00265957]\n",
      " [0.00265957 0.00265957 0.00265957 ... 0.00265957 0.00265957 0.00265957]\n",
      " [0.00265957 0.00265957 0.00265957 ... 0.00265957 0.00265957 0.00265957]\n",
      " ...\n",
      " [0.00265957 0.00265957 0.00265957 ... 0.00265957 0.00265957 0.00265957]\n",
      " [0.00265957 0.00265957 0.00265957 ... 0.00265957 0.00265957 0.00265957]\n",
      " [0.00265957 0.00265957 0.00265957 ... 0.00265957 0.00265957 0.00265957]]\n",
      "[1. 1. 1. ... 1. 1. 1.]\n"
     ]
    },
    {
     "data": {
      "image/png": "[encoded data removed]",
      "text/plain": [
       "<Figure size 432x288 with 1 Axes>"
      ]
     },
     "metadata": {
      "needs_background": "light"
     },
     "output_type": "display_data"
    },
    {
     "name": "stdout",
     "output_type": "stream",
     "text": [
      "[[0.00265957 0.00265957 0.00265957 ... 0.00265957 0.00265957 0.00265957]\n",
      " [0.00265957 0.00265957 0.00265957 ... 0.00265957 0.00265957 0.00265957]\n",
      " [0.00265957 0.00265957 0.00265957 ... 0.00265957 0.00265957 0.00265957]\n",
      " ...\n",
      " [0.00265957 0.00265957 0.00265957 ... 0.00265957 0.00265957 0.00265957]\n",
      " [0.00265957 0.00265957 0.00265957 ... 0.00265957 0.00265957 0.00265957]\n",
      " [0.00265957 0.00265957 0.00265957 ... 0.00265957 0.00265957 0.00265957]]\n",
      "[1. 1. 1. ... 1. 1. 1.]\n"
     ]
    },
    {
     "data": {
      "image/png": "[encoded data removed]",
      "text/plain": [
       "<Figure size 432x288 with 1 Axes>"
      ]
     },
     "metadata": {
      "needs_background": "light"
     },
     "output_type": "display_data"
    },
    {
     "name": "stdout",
     "output_type": "stream",
     "text": [
      "[[0.00265957 0.00265957 0.00265957 ... 0.00265957 0.00265957 0.00265957]\n",
      " [0.00265957 0.00265957 0.00265957 ... 0.00265957 0.00265957 0.00265957]\n",
      " [0.00265957 0.00265957 0.00265957 ... 0.00265957 0.00265957 0.00265957]\n",
      " ...\n",
      " [0.00265957 0.00265957 0.00265957 ... 0.00265957 0.00265957 0.00265957]\n",
      " [0.00265957 0.00265957 0.00265957 ... 0.00265957 0.00265957 0.00265957]\n",
      " [0.00265957 0.00265957 0.00265957 ... 0.00265957 0.00265957 0.00265957]]\n",
      "[1. 1. 1. ... 1. 1. 1.]\n"
     ]
    },
    {
     "data": {
      "image/png": "[encoded data removed]",
      "text/plain": [
       "<Figure size 432x288 with 1 Axes>"
      ]
     },
     "metadata": {
      "needs_background": "light"
     },
     "output_type": "display_data"
    },
    {
     "name": "stdout",
     "output_type": "stream",
     "text": [
      "[[0.00265957 0.00265957 0.00265957 ... 0.00265957 0.00265957 0.00265957]\n",
      " [0.00265957 0.00265957 0.00265957 ... 0.00265957 0.00265957 0.00265957]\n",
      " [0.00265957 0.00265957 0.00265957 ... 0.00265957 0.00265957 0.00265957]\n",
      " ...\n",
      " [0.00265957 0.00265957 0.00265957 ... 0.00265957 0.00265957 0.00265957]\n",
      " [0.00265957 0.00265957 0.00265957 ... 0.00265957 0.00265957 0.00265957]\n",
      " [0.00265957 0.00265957 0.00265957 ... 0.00265957 0.00265957 0.00265957]]\n",
      "[1. 1. 1. ... 1. 1. 1.]\n"
     ]
    },
    {
     "data": {
      "image/png": "[encoded data removed]",
      "text/plain": [
       "<Figure size 432x288 with 1 Axes>"
      ]
     },
     "metadata": {
      "needs_background": "light"
     },
     "output_type": "display_data"
    },
    {
     "name": "stdout",
     "output_type": "stream",
     "text": [
      "[[0.00265957 0.00265957 0.00265957 ... 0.00265957 0.00265957 0.00265957]\n",
      " [0.00265957 0.00265957 0.00265957 ... 0.00265957 0.00265957 0.00265957]\n",
      " [0.00265957 0.00265957 0.00265957 ... 0.00265957 0.00265957 0.00265957]\n",
      " ...\n",
      " [0.00265957 0.00265957 0.00265957 ... 0.00265957 0.00265957 0.00265957]\n",
      " [0.00265957 0.00265957 0.00265957 ... 0.00265957 0.00265957 0.00265957]\n",
      " [0.00265957 0.00265957 0.00265957 ... 0.00265957 0.00265957 0.00265957]]\n",
      "[1. 1. 1. ... 1. 1. 1.]\n"
     ]
    },
    {
     "data": {
      "image/png": "[encoded data removed]",
      "text/plain": [
       "<Figure size 432x288 with 1 Axes>"
      ]
     },
     "metadata": {
      "needs_background": "light"
     },
     "output_type": "display_data"
    },
    {
     "name": "stdout",
     "output_type": "stream",
     "text": [
      "[[0.00265957 0.00265957 0.00265957 ... 0.00265957 0.00265957 0.00265957]\n",
      " [0.00265957 0.00265957 0.00265957 ... 0.00265957 0.00265957 0.00265957]\n",
      " [0.00265957 0.00265957 0.00265957 ... 0.00265957 0.00265957 0.00265957]\n",
      " ...\n",
      " [0.00265957 0.00265957 0.00265957 ... 0.00265957 0.00265957 0.00265957]\n",
      " [0.00265957 0.00265957 0.00265957 ... 0.00265957 0.00265957 0.00265957]\n",
      " [0.00265957 0.00265957 0.00265957 ... 0.00265957 0.00265957 0.00265957]]\n",
      "[1. 1. 1. ... 1. 1. 1.]\n"
     ]
    },
    {
     "data": {
      "image/png": "[encoded data removed]",
      "text/plain": [
       "<Figure size 432x288 with 1 Axes>"
      ]
     },
     "metadata": {
      "needs_background": "light"
     },
     "output_type": "display_data"
    },
    {
     "name": "stdout",
     "output_type": "stream",
     "text": [
      "[[0.00265957 0.00265957 0.00265957 ... 0.00265957 0.00265957 0.00265957]\n",
      " [0.00265957 0.00265957 0.00265957 ... 0.00265957 0.00265957 0.00265957]\n",
      " [0.00265957 0.00265957 0.00265957 ... 0.00265957 0.00265957 0.00265957]\n",
      " ...\n",
      " [0.00265957 0.00265957 0.00265957 ... 0.00265957 0.00265957 0.00265957]\n",
      " [0.00265957 0.00265957 0.00265957 ... 0.00265957 0.00265957 0.00265957]\n",
      " [0.00265957 0.00265957 0.00265957 ... 0.00265957 0.00265957 0.00265957]]\n",
      "[1. 1. 1. ... 1. 1. 1.]\n"
     ]
    },
    {
     "data": {
      "image/png": "[encoded data removed]",
      "text/plain": [
       "<Figure size 432x288 with 1 Axes>"
      ]
     },
     "metadata": {
      "needs_background": "light"
     },
     "output_type": "display_data"
    },
    {
     "name": "stdout",
     "output_type": "stream",
     "text": [
      "[[0.00265957 0.00265957 0.00265957 ... 0.00265957 0.00265957 0.00265957]\n",
      " [0.00265957 0.00265957 0.00265957 ... 0.00265957 0.00265957 0.00265957]\n",
      " [0.00265957 0.00265957 0.00265957 ... 0.00265957 0.00265957 0.00265957]\n",
      " ...\n",
      " [0.00265957 0.00265957 0.00265957 ... 0.00265957 0.00265957 0.00265957]\n",
      " [0.00265957 0.00265957 0.00265957 ... 0.00265957 0.00265957 0.00265957]\n",
      " [0.00265957 0.00265957 0.00265957 ... 0.00265957 0.00265957 0.00265957]]\n",
      "[1. 1. 1. ... 1. 1. 1.]\n"
     ]
    },
    {
     "data": {
      "image/png": "[encoded data removed]",
      "text/plain": [
       "<Figure size 432x288 with 1 Axes>"
      ]
     },
     "metadata": {
      "needs_background": "light"
     },
     "output_type": "display_data"
    },
    {
     "name": "stdout",
     "output_type": "stream",
     "text": [
      "[[0.00265957 0.00265957 0.00265957 ... 0.00265957 0.00265957 0.00265957]\n",
      " [0.00265957 0.00265957 0.00265957 ... 0.00265957 0.00265957 0.00265957]\n",
      " [0.00265957 0.00265957 0.00265957 ... 0.00265957 0.00265957 0.00265957]\n",
      " ...\n",
      " [0.00265957 0.00265957 0.00265957 ... 0.00265957 0.00265957 0.00265957]\n",
      " [0.00265957 0.00265957 0.00265957 ... 0.00265957 0.00265957 0.00265957]\n",
      " [0.00265957 0.00265957 0.00265957 ... 0.00265957 0.00265957 0.00265957]]\n",
      "[1. 1. 1. ... 1. 1. 1.]\n"
     ]
    },
    {
     "data": {
      "image/png": "[encoded data removed]",
      "text/plain": [
       "<Figure size 432x288 with 1 Axes>"
      ]
     },
     "metadata": {
      "needs_background": "light"
     },
     "output_type": "display_data"
    },
    {
     "name": "stdout",
     "output_type": "stream",
     "text": [
      "[[0.00265957 0.00265957 0.00265957 ... 0.00265957 0.00265957 0.00265957]\n",
      " [0.00265957 0.00265957 0.00265957 ... 0.00265957 0.00265957 0.00265957]\n",
      " [0.00265957 0.00265957 0.00265957 ... 0.00265957 0.00265957 0.00265957]\n",
      " ...\n",
      " [0.00265957 0.00265957 0.00265957 ... 0.00265957 0.00265957 0.00265957]\n",
      " [0.00265957 0.00265957 0.00265957 ... 0.00265957 0.00265957 0.00265957]\n",
      " [0.00265957 0.00265957 0.00265957 ... 0.00265957 0.00265957 0.00265957]]\n",
      "[1. 1. 1. ... 1. 1. 1.]\n"
     ]
    },
    {
     "data": {
      "image/png": "[encoded data removed]",
      "text/plain": [
       "<Figure size 432x288 with 1 Axes>"
      ]
     },
     "metadata": {
      "needs_background": "light"
     },
     "output_type": "display_data"
    },
    {
     "name": "stdout",
     "output_type": "stream",
     "text": [
      "[[0.00265957 0.00265957 0.00265957 ... 0.00265957 0.00265957 0.00265957]\n",
      " [0.00265957 0.00265957 0.00265957 ... 0.00265957 0.00265957 0.00265957]\n",
      " [0.00265957 0.00265957 0.00265957 ... 0.00265957 0.00265957 0.00265957]\n",
      " ...\n",
      " [0.00265957 0.00265957 0.00265957 ... 0.00265957 0.00265957 0.00265957]\n",
      " [0.00265957 0.00265957 0.00265957 ... 0.00265957 0.00265957 0.00265957]\n",
      " [0.00265957 0.00265957 0.00265957 ... 0.00265957 0.00265957 0.00265957]]\n",
      "[1. 1. 1. ... 1. 1. 1.]\n"
     ]
    },
    {
     "data": {
      "image/png": "[encoded data removed]",
      "text/plain": [
       "<Figure size 432x288 with 1 Axes>"
      ]
     },
     "metadata": {
      "needs_background": "light"
     },
     "output_type": "display_data"
    },
    {
     "name": "stdout",
     "output_type": "stream",
     "text": [
      "[[0.00265957 0.00265957 0.00265957 ... 0.00265957 0.00265957 0.00265957]\n",
      " [0.00265957 0.00265957 0.00265957 ... 0.00265957 0.00265957 0.00265957]\n",
      " [0.00265957 0.00265957 0.00265957 ... 0.00265957 0.00265957 0.00265957]\n",
      " ...\n",
      " [0.00265957 0.00265957 0.00265957 ... 0.00265957 0.00265957 0.00265957]\n",
      " [0.00265957 0.00265957 0.00265957 ... 0.00265957 0.00265957 0.00265957]\n",
      " [0.00265957 0.00265957 0.00265957 ... 0.00265957 0.00265957 0.00265957]]\n",
      "[1. 1. 1. ... 1. 1. 1.]\n"
     ]
    },
    {
     "data": {
      "image/png": "[encoded data removed]",
      "text/plain": [
       "<Figure size 432x288 with 1 Axes>"
      ]
     },
     "metadata": {
      "needs_background": "light"
     },
     "output_type": "display_data"
    },
    {
     "name": "stdout",
     "output_type": "stream",
     "text": [
      "[[0.00265957 0.00265957 0.00265957 ... 0.00265957 0.00265957 0.00265957]\n",
      " [0.00265957 0.00265957 0.00265957 ... 0.00265957 0.00265957 0.00265957]\n",
      " [0.00265957 0.00265957 0.00265957 ... 0.00265957 0.00265957 0.00265957]\n",
      " ...\n",
      " [0.00265957 0.00265957 0.00265957 ... 0.00265957 0.00265957 0.00265957]\n",
      " [0.00265957 0.00265957 0.00265957 ... 0.00265957 0.00265957 0.00265957]\n",
      " [0.00265957 0.00265957 0.00265957 ... 0.00265957 0.00265957 0.00265957]]\n",
      "[1. 1. 1. ... 1. 1. 1.]\n"
     ]
    },
    {
     "data": {
      "image/png": "[encoded data removed]",
      "text/plain": [
       "<Figure size 432x288 with 1 Axes>"
      ]
     },
     "metadata": {
      "needs_background": "light"
     },
     "output_type": "display_data"
    },
    {
     "name": "stdout",
     "output_type": "stream",
     "text": [
      "[[0.00265957 0.00265957 0.00265957 ... 0.00265957 0.00265957 0.00265957]\n",
      " [0.00265957 0.00265957 0.00265957 ... 0.00265957 0.00265957 0.00265957]\n",
      " [0.00265957 0.00265957 0.00265957 ... 0.00265957 0.00265957 0.00265957]\n",
      " ...\n",
      " [0.00265957 0.00265957 0.00265957 ... 0.00265957 0.00265957 0.00265957]\n",
      " [0.00265957 0.00265957 0.00265957 ... 0.00265957 0.00265957 0.00265957]\n",
      " [0.00265957 0.00265957 0.00265957 ... 0.00265957 0.00265957 0.00265957]]\n",
      "[1. 1. 1. ... 1. 1. 1.]\n"
     ]
    },
    {
     "data": {
      "image/png": "[encoded data removed]",
      "text/plain": [
       "<Figure size 432x288 with 1 Axes>"
      ]
     },
     "metadata": {
      "needs_background": "light"
     },
     "output_type": "display_data"
    },
    {
     "name": "stdout",
     "output_type": "stream",
     "text": [
      "[[0.00265957 0.00265957 0.00265957 ... 0.00265957 0.00265957 0.00265957]\n",
      " [0.00265957 0.00265957 0.00265957 ... 0.00265957 0.00265957 0.00265957]\n",
      " [0.00265957 0.00265957 0.00265957 ... 0.00265957 0.00265957 0.00265957]\n",
      " ...\n",
      " [0.00265957 0.00265957 0.00265957 ... 0.00265957 0.00265957 0.00265957]\n",
      " [0.00265957 0.00265957 0.00265957 ... 0.00265957 0.00265957 0.00265957]\n",
      " [0.00265957 0.00265957 0.00265957 ... 0.00265957 0.00265957 0.00265957]]\n",
      "[1. 1. 1. ... 1. 1. 1.]\n"
     ]
    },
    {
     "data": {
      "image/png": "[encoded data removed]",
      "text/plain": [
       "<Figure size 432x288 with 1 Axes>"
      ]
     },
     "metadata": {
      "needs_background": "light"
     },
     "output_type": "display_data"
    },
    {
     "name": "stdout",
     "output_type": "stream",
     "text": [
      "[[0.00265957 0.00265957 0.00265957 ... 0.00265957 0.00265957 0.00265957]\n",
      " [0.00265957 0.00265957 0.00265957 ... 0.00265957 0.00265957 0.00265957]\n",
      " [0.00265957 0.00265957 0.00265957 ... 0.00265957 0.00265957 0.00265957]\n",
      " ...\n",
      " [0.00265957 0.00265957 0.00265957 ... 0.00265957 0.00265957 0.00265957]\n",
      " [0.00265957 0.00265957 0.00265957 ... 0.00265957 0.00265957 0.00265957]\n",
      " [0.00265957 0.00265957 0.00265957 ... 0.00265957 0.00265957 0.00265957]]\n",
      "[1. 1. 1. ... 1. 1. 1.]\n"
     ]
    },
    {
     "data": {
      "image/png": "[encoded data removed]",
      "text/plain": [
       "<Figure size 432x288 with 1 Axes>"
      ]
     },
     "metadata": {
      "needs_background": "light"
     },
     "output_type": "display_data"
    },
    {
     "name": "stdout",
     "output_type": "stream",
     "text": [
      "[[0.00265957 0.00265957 0.00265957 ... 0.00265957 0.00265957 0.00265957]\n",
      " [0.00265957 0.00265957 0.00265957 ... 0.00265957 0.00265957 0.00265957]\n",
      " [0.00265957 0.00265957 0.00265957 ... 0.00265957 0.00265957 0.00265957]\n",
      " ...\n",
      " [0.00265957 0.00265957 0.00265957 ... 0.00265957 0.00265957 0.00265957]\n",
      " [0.00265957 0.00265957 0.00265957 ... 0.00265957 0.00265957 0.00265957]\n",
      " [0.00265957 0.00265957 0.00265957 ... 0.00265957 0.00265957 0.00265957]]\n",
      "[1. 1. 1. ... 1. 1. 1.]\n"
     ]
    },
    {
     "data": {
      "image/png": "[encoded data removed]",
      "text/plain": [
       "<Figure size 432x288 with 1 Axes>"
      ]
     },
     "metadata": {
      "needs_background": "light"
     },
     "output_type": "display_data"
    },
    {
     "name": "stdout",
     "output_type": "stream",
     "text": [
      "[[0.00265957 0.00265957 0.00265957 ... 0.00265957 0.00265957 0.00265957]\n",
      " [0.00265957 0.00265957 0.00265957 ... 0.00265957 0.00265957 0.00265957]\n",
      " [0.00265957 0.00265957 0.00265957 ... 0.00265957 0.00265957 0.00265957]\n",
      " ...\n",
      " [0.00265957 0.00265957 0.00265957 ... 0.00265957 0.00265957 0.00265957]\n",
      " [0.00265957 0.00265957 0.00265957 ... 0.00265957 0.00265957 0.00265957]\n",
      " [0.00265957 0.00265957 0.00265957 ... 0.00265957 0.00265957 0.00265957]]\n",
      "[1. 1. 1. ... 1. 1. 1.]\n"
     ]
    },
    {
     "data": {
      "image/png": "[encoded data removed]",
      "text/plain": [
       "<Figure size 432x288 with 1 Axes>"
      ]
     },
     "metadata": {
      "needs_background": "light"
     },
     "output_type": "display_data"
    },
    {
     "name": "stdout",
     "output_type": "stream",
     "text": [
      "[[0.00265957 0.00265957 0.00265957 ... 0.00265957 0.00265957 0.00265957]\n",
      " [0.00265957 0.00265957 0.00265957 ... 0.00265957 0.00265957 0.00265957]\n",
      " [0.00265957 0.00265957 0.00265957 ... 0.00265957 0.00265957 0.00265957]\n",
      " ...\n",
      " [0.00265957 0.00265957 0.00265957 ... 0.00265957 0.00265957 0.00265957]\n",
      " [0.00265957 0.00265957 0.00265957 ... 0.00265957 0.00265957 0.00265957]\n",
      " [0.00265957 0.00265957 0.00265957 ... 0.00265957 0.00265957 0.00265957]]\n",
      "[1. 1. 1. ... 1. 1. 1.]\n"
     ]
    },
    {
     "data": {
      "image/png": "[encoded data removed]",
      "text/plain": [
       "<Figure size 432x288 with 1 Axes>"
      ]
     },
     "metadata": {
      "needs_background": "light"
     },
     "output_type": "display_data"
    },
    {
     "name": "stdout",
     "output_type": "stream",
     "text": [
      "[[0.00265957 0.00265957 0.00265957 ... 0.00265957 0.00265957 0.00265957]\n",
      " [0.00265957 0.00265957 0.00265957 ... 0.00265957 0.00265957 0.00265957]\n",
      " [0.00265957 0.00265957 0.00265957 ... 0.00265957 0.00265957 0.00265957]\n",
      " ...\n",
      " [0.00265957 0.00265957 0.00265957 ... 0.00265957 0.00265957 0.00265957]\n",
      " [0.00265957 0.00265957 0.00265957 ... 0.00265957 0.00265957 0.00265957]\n",
      " [0.00265957 0.00265957 0.00265957 ... 0.00265957 0.00265957 0.00265957]]\n",
      "[1. 1. 1. ... 1. 1. 1.]\n"
     ]
    },
    {
     "data": {
      "image/png": "[encoded data removed]",
      "text/plain": [
       "<Figure size 432x288 with 1 Axes>"
      ]
     },
     "metadata": {
      "needs_background": "light"
     },
     "output_type": "display_data"
    },
    {
     "name": "stdout",
     "output_type": "stream",
     "text": [
      "[[0.00265957 0.00265957 0.00265957 ... 0.00265957 0.00265957 0.00265957]\n",
      " [0.00265957 0.00265957 0.00265957 ... 0.00265957 0.00265957 0.00265957]\n",
      " [0.00265957 0.00265957 0.00265957 ... 0.00265957 0.00265957 0.00265957]\n",
      " ...\n",
      " [0.00265957 0.00265957 0.00265957 ... 0.00265957 0.00265957 0.00265957]\n",
      " [0.00265957 0.00265957 0.00265957 ... 0.00265957 0.00265957 0.00265957]\n",
      " [0.00265957 0.00265957 0.00265957 ... 0.00265957 0.00265957 0.00265957]]\n",
      "[1. 1. 1. ... 1. 1. 1.]\n"
     ]
    },
    {
     "data": {
      "image/png": "[encoded data removed]",
      "text/plain": [
       "<Figure size 432x288 with 1 Axes>"
      ]
     },
     "metadata": {
      "needs_background": "light"
     },
     "output_type": "display_data"
    },
    {
     "name": "stdout",
     "output_type": "stream",
     "text": [
      "[[0.00265957 0.00265957 0.00265957 ... 0.00265957 0.00265957 0.00265957]\n",
      " [0.00265957 0.00265957 0.00265957 ... 0.00265957 0.00265957 0.00265957]\n",
      " [0.00265957 0.00265957 0.00265957 ... 0.00265957 0.00265957 0.00265957]\n",
      " ...\n",
      " [0.00265957 0.00265957 0.00265957 ... 0.00265957 0.00265957 0.00265957]\n",
      " [0.00265957 0.00265957 0.00265957 ... 0.00265957 0.00265957 0.00265957]\n",
      " [0.00265957 0.00265957 0.00265957 ... 0.00265957 0.00265957 0.00265957]]\n",
      "[1. 1. 1. ... 1. 1. 1.]\n"
     ]
    },
    {
     "data": {
      "image/png": "[encoded data removed]",
      "text/plain": [
       "<Figure size 432x288 with 1 Axes>"
      ]
     },
     "metadata": {
      "needs_background": "light"
     },
     "output_type": "display_data"
    }
   ],
   "source": [
    "calib_dir = directory + \"data/kitti-360/calibration/\"\n",
    "velo_dir = directory + 'data/kitti-360/KITTI-360/data_3d_raw/2013_05_28_drive_0000_sync/velodyne_points/data/'\n",
    "cam = 0\n",
    "vel_depth = False\n",
    "\n",
    "for frame in range(start, end, gap):\n",
    "    velo_filename = velo_dir + str(frame).zfill(10) + '.bin'  \n",
    "    depth_map = generate_depth_map(calib_dir, velo_filename)\n",
    "    depth_map = depth_map/np.sum(depth_map, axis=0)\n",
    "    print(depth_map)\n",
    "    print(np.sum(depth_map, axis=0))\n",
    "    im = Image.fromarray(depth_map, mode='F') \n",
    "    #im = im.resize((int(376), int(376)), Image.ANTIALIAS)\n",
    "    im = im.crop((516, 0, 892, 376))\n",
    "    visualize(im)\n",
    "    im.save(new_path + str((frame-start)//gap).zfill(3) + \"_depth.tiff\", \"TIFF\")"
   ]
  },
  {
   "cell_type": "markdown",
   "id": "a22ad167",
   "metadata": {},
   "source": [
    "## Others"
   ]
  },
  {
   "cell_type": "code",
   "execution_count": 9,
   "id": "b1f1f636",
   "metadata": {},
   "outputs": [
    {
     "name": "stdout",
     "output_type": "stream",
     "text": [
      "[[0.0013191  0.00131812 0.00131709 ... 0.00091155 0.00090606 0.00090063]\n",
      " [0.00132544 0.00132445 0.00132344 ... 0.00091076 0.00090528 0.00089986]\n",
      " [0.00133186 0.00133086 0.00132988 ... 0.00090998 0.0009045  0.00089905]\n",
      " ...\n",
      " [0.00143419 0.0014349  0.00143562 ... 0.00061553 0.00061304 0.00061056]\n",
      " [0.00142937 0.00143009 0.00143078 ... 0.00061513 0.00061264 0.00061016]\n",
      " [0.00142458 0.00142527 0.00142597 ... 0.00061474 0.00061223 0.00060977]]\n",
      "Sum of every row:\n",
      "[0.8497029  0.8490125  0.84832096 0.84763056 0.846936   0.8462406\n",
      " 0.84554476 0.8448555  0.84417224 0.84349203]\n"
     ]
    }
   ],
   "source": [
    "im = Image.open('/home/hpaat/courses/comp6411b/ml-gsn/data/replica_all_true/train/00/001_depth.tiff')\n",
    "im = np.array(im)\n",
    "print(im)\n",
    "print('Sum of every row:')\n",
    "print(np.sum(im, axis=0)[:10])"
   ]
  },
  {
   "cell_type": "code",
   "execution_count": 15,
   "id": "b732443a",
   "metadata": {
    "scrolled": true
   },
   "outputs": [],
   "source": [
    "'''import os\n",
    "\n",
    "dir_name = \"/home/hpaat/courses/comp6411b/ml-gsn/data/replica_all/train/00\"\n",
    "test = os.listdir(dir_name)\n",
    "\n",
    "for item in test:\n",
    "    if item.endswith(\".tiff\"):\n",
    "        os.remove(os.path.join(dir_name, item))'''"
   ]
  },
  {
   "cell_type": "code",
   "execution_count": 16,
   "id": "fe11d6a6",
   "metadata": {},
   "outputs": [],
   "source": [
    "'''import glob, os, shutil\n",
    "\n",
    "source_dir = '/home/hpaat/courses/comp6411b/ml-gsn/data/replica_all_true/train/00/'\n",
    "files = glob.iglob(os.path.join(source_dir, \"*.tiff\"))\n",
    "for file in files:\n",
    "    if os.path.isfile(file):\n",
    "        shutil.copy2(file, dir_name)'''"
   ]
  },
  {
   "cell_type": "code",
   "execution_count": 14,
   "id": "7161dfe8",
   "metadata": {},
   "outputs": [
    {
     "data": {
      "text/plain": [
       "\"from PIL import Image\\nim = Image.open('/home/hpaat/courses/comp6411b/ml-gsn/data/replica_all/train/00/000_depth.tiff')\\nim.show()\\n\\nimport numpy\\nimarray = numpy.array(im)\\nprint(np.sum(imarray, axis=1))\""
      ]
     },
     "execution_count": 14,
     "metadata": {},
     "output_type": "execute_result"
    }
   ],
   "source": [
    "'''from PIL import Image\n",
    "im = Image.open('/home/hpaat/courses/comp6411b/ml-gsn/data/replica_all/train/00/000_depth.tiff')\n",
    "im.show()\n",
    "\n",
    "import numpy\n",
    "imarray = numpy.array(im)\n",
    "print(np.sum(imarray, axis=1))'''"
   ]
  },
  {
   "cell_type": "code",
   "execution_count": null,
   "id": "48dac6a1",
   "metadata": {},
   "outputs": [],
   "source": []
  }
 ],
 "metadata": {
  "kernelspec": {
   "display_name": "Python 3",
   "language": "python",
   "name": "python3"
  },
  "language_info": {
   "codemirror_mode": {
    "name": "ipython",
    "version": 3
   },
   "file_extension": ".py",
   "mimetype": "text/x-python",
   "name": "python",
   "nbconvert_exporter": "python",
   "pygments_lexer": "ipython3",
   "version": "3.7.6"
  }
 },
 "nbformat": 4,
 "nbformat_minor": 5
}
